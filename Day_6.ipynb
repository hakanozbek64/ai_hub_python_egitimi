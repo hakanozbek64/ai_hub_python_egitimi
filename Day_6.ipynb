{
  "nbformat": 4,
  "nbformat_minor": 0,
  "metadata": {
    "colab": {
      "name": "Day-6.ipynb",
      "provenance": [],
      "collapsed_sections": []
    },
    "kernelspec": {
      "name": "python3",
      "display_name": "Python 3"
    }
  },
  "cells": [
    {
      "cell_type": "markdown",
      "metadata": {
        "id": "cma2IKnL9e-M",
        "colab_type": "text"
      },
      "source": [
        "# Hatalar \n",
        "\n",
        "*   Programcı Hataları (Error)\n",
        "*   Program Kusurları (Bug)\n",
        "*   İstisnalar (Exception)\n",
        "\n",
        "\n"
      ]
    },
    {
      "cell_type": "code",
      "metadata": {
        "id": "1YGSrszE9cch",
        "colab_type": "code",
        "colab": {
          "base_uri": "https://localhost:8080/",
          "height": 132
        },
        "outputId": "30e93b4a-a466-4cd9-a46d-1698dece3e55"
      },
      "source": [
        "# error lara bir örnek,SyntaxError.\n",
        "\n",
        "print \"Hello World!\"   "
      ],
      "execution_count": 157,
      "outputs": [
        {
          "output_type": "error",
          "ename": "SyntaxError",
          "evalue": "ignored",
          "traceback": [
            "\u001b[0;36m  File \u001b[0;32m\"<ipython-input-157-b049c2195aa3>\"\u001b[0;36m, line \u001b[0;32m3\u001b[0m\n\u001b[0;31m    print \"Hello World!\"\u001b[0m\n\u001b[0m                       ^\u001b[0m\n\u001b[0;31mSyntaxError\u001b[0m\u001b[0;31m:\u001b[0m Missing parentheses in call to 'print'. Did you mean print(\"Hello World!\")?\n"
          ]
        }
      ]
    },
    {
      "cell_type": "code",
      "metadata": {
        "id": "OMnUYXwD_msy",
        "colab_type": "code",
        "colab": {
          "base_uri": "https://localhost:8080/",
          "height": 70
        },
        "outputId": "d72edcc1-527b-491a-c0ea-a1a8ab523803"
      },
      "source": [
        "#bug lara bir örnek.\n",
        "\n",
        "\n",
        "sayi1 = input(\"1. sayıyı giriniz: \")\n",
        "sayi2 = input(\"2. sayıyı giriniz: \")\n",
        "\n",
        "print(sayi1, \"+\", sayi2, \"=\", sayi1 + sayi2)\n"
      ],
      "execution_count": 158,
      "outputs": [
        {
          "output_type": "stream",
          "text": [
            "1. sayıyı giriniz: 5\n",
            "2. sayıyı giriniz: 7\n",
            "5 + 7 = 57\n"
          ],
          "name": "stdout"
        }
      ]
    },
    {
      "cell_type": "code",
      "metadata": {
        "id": "n0Ux_gF9CthH",
        "colab_type": "code",
        "colab": {
          "base_uri": "https://localhost:8080/",
          "height": 275
        },
        "outputId": "1ad08cf2-a946-4a1e-af70-d307f7521f49"
      },
      "source": [
        "#exception lara bir diğer örnek, ValueError.\n",
        "\n",
        "sayi3 = int(input(\"İlk sayı: \"))\n",
        "sayi4 = int(input(\"İkinci sayı: \"))\n",
        "\n",
        "print(sayi3, \"/\",sayi4, \"=\", sayi3/sayi4)"
      ],
      "execution_count": 159,
      "outputs": [
        {
          "output_type": "stream",
          "text": [
            "İlk sayı: 5\n",
            "İkinci sayı: dfgsd\n"
          ],
          "name": "stdout"
        },
        {
          "output_type": "error",
          "ename": "ValueError",
          "evalue": "ignored",
          "traceback": [
            "\u001b[0;31m---------------------------------------------------------------------------\u001b[0m",
            "\u001b[0;31mValueError\u001b[0m                                Traceback (most recent call last)",
            "\u001b[0;32m<ipython-input-159-e998def70883>\u001b[0m in \u001b[0;36m<module>\u001b[0;34m()\u001b[0m\n\u001b[1;32m      2\u001b[0m \u001b[0;34m\u001b[0m\u001b[0m\n\u001b[1;32m      3\u001b[0m \u001b[0msayi3\u001b[0m \u001b[0;34m=\u001b[0m \u001b[0mint\u001b[0m\u001b[0;34m(\u001b[0m\u001b[0minput\u001b[0m\u001b[0;34m(\u001b[0m\u001b[0;34m\"İlk sayı: \"\u001b[0m\u001b[0;34m)\u001b[0m\u001b[0;34m)\u001b[0m\u001b[0;34m\u001b[0m\u001b[0;34m\u001b[0m\u001b[0m\n\u001b[0;32m----> 4\u001b[0;31m \u001b[0msayi4\u001b[0m \u001b[0;34m=\u001b[0m \u001b[0mint\u001b[0m\u001b[0;34m(\u001b[0m\u001b[0minput\u001b[0m\u001b[0;34m(\u001b[0m\u001b[0;34m\"İkinci sayı: \"\u001b[0m\u001b[0;34m)\u001b[0m\u001b[0;34m)\u001b[0m\u001b[0;34m\u001b[0m\u001b[0;34m\u001b[0m\u001b[0m\n\u001b[0m\u001b[1;32m      5\u001b[0m \u001b[0;34m\u001b[0m\u001b[0m\n\u001b[1;32m      6\u001b[0m \u001b[0mprint\u001b[0m\u001b[0;34m(\u001b[0m\u001b[0msayi3\u001b[0m\u001b[0;34m,\u001b[0m \u001b[0;34m\"/\"\u001b[0m\u001b[0;34m,\u001b[0m\u001b[0msayi4\u001b[0m\u001b[0;34m,\u001b[0m \u001b[0;34m\"=\"\u001b[0m\u001b[0;34m,\u001b[0m \u001b[0msayi3\u001b[0m\u001b[0;34m/\u001b[0m\u001b[0msayi4\u001b[0m\u001b[0;34m)\u001b[0m\u001b[0;34m\u001b[0m\u001b[0;34m\u001b[0m\u001b[0m\n",
            "\u001b[0;31mValueError\u001b[0m: invalid literal for int() with base 10: 'dfgsd'"
          ]
        }
      ]
    },
    {
      "cell_type": "code",
      "metadata": {
        "id": "D9_dw3TqA0wc",
        "colab_type": "code",
        "colab": {
          "base_uri": "https://localhost:8080/",
          "height": 239
        },
        "outputId": "321e6918-c6e2-4183-edc7-f1dcf37d85f5"
      },
      "source": [
        "#exception lara bir örnek, ZeroDivisionError.\n",
        "\n",
        "\n",
        "sayi3 = int(input(\"İlk sayı: \"))\n",
        "sayi4 = int(input(\"İkinci sayı: \"))\n",
        "\n",
        "print(sayi3, \"/\",sayi4, \"=\", sayi3/sayi4)"
      ],
      "execution_count": 160,
      "outputs": [
        {
          "output_type": "stream",
          "text": [
            "İlk sayı: 7\n",
            "İkinci sayı: 0\n"
          ],
          "name": "stdout"
        },
        {
          "output_type": "error",
          "ename": "ZeroDivisionError",
          "evalue": "ignored",
          "traceback": [
            "\u001b[0;31m---------------------------------------------------------------------------\u001b[0m",
            "\u001b[0;31mZeroDivisionError\u001b[0m                         Traceback (most recent call last)",
            "\u001b[0;32m<ipython-input-160-bad5358b9891>\u001b[0m in \u001b[0;36m<module>\u001b[0;34m()\u001b[0m\n\u001b[1;32m      5\u001b[0m \u001b[0msayi4\u001b[0m \u001b[0;34m=\u001b[0m \u001b[0mint\u001b[0m\u001b[0;34m(\u001b[0m\u001b[0minput\u001b[0m\u001b[0;34m(\u001b[0m\u001b[0;34m\"İkinci sayı: \"\u001b[0m\u001b[0;34m)\u001b[0m\u001b[0;34m)\u001b[0m\u001b[0;34m\u001b[0m\u001b[0;34m\u001b[0m\u001b[0m\n\u001b[1;32m      6\u001b[0m \u001b[0;34m\u001b[0m\u001b[0m\n\u001b[0;32m----> 7\u001b[0;31m \u001b[0mprint\u001b[0m\u001b[0;34m(\u001b[0m\u001b[0msayi3\u001b[0m\u001b[0;34m,\u001b[0m \u001b[0;34m\"/\"\u001b[0m\u001b[0;34m,\u001b[0m\u001b[0msayi4\u001b[0m\u001b[0;34m,\u001b[0m \u001b[0;34m\"=\"\u001b[0m\u001b[0;34m,\u001b[0m \u001b[0msayi3\u001b[0m\u001b[0;34m/\u001b[0m\u001b[0msayi4\u001b[0m\u001b[0;34m)\u001b[0m\u001b[0;34m\u001b[0m\u001b[0;34m\u001b[0m\u001b[0m\n\u001b[0m",
            "\u001b[0;31mZeroDivisionError\u001b[0m: division by zero"
          ]
        }
      ]
    },
    {
      "cell_type": "markdown",
      "metadata": {
        "id": "bz2U4A64BnWJ",
        "colab_type": "text"
      },
      "source": [
        "##Hata Yakalama\n",
        "\n",
        "\n",
        "try:\n",
        "\n",
        "\n",
        "> hata alabileceğimiz kısımlar.\n",
        "\n",
        "except <Hata Adı>:\n",
        "\n",
        "\n",
        "> hata durumunda yapılacak işlem.\n",
        "\n",
        "\n",
        "\n"
      ]
    },
    {
      "cell_type": "code",
      "metadata": {
        "id": "-2Dkw2H4BpCX",
        "colab_type": "code",
        "colab": {
          "base_uri": "https://localhost:8080/",
          "height": 204
        },
        "outputId": "f81b0a41-db10-4a9d-852e-00eaf498e0d4"
      },
      "source": [
        "x = \"Alan Turing\"\n",
        "\n",
        "int(x)"
      ],
      "execution_count": 161,
      "outputs": [
        {
          "output_type": "error",
          "ename": "ValueError",
          "evalue": "ignored",
          "traceback": [
            "\u001b[0;31m---------------------------------------------------------------------------\u001b[0m",
            "\u001b[0;31mValueError\u001b[0m                                Traceback (most recent call last)",
            "\u001b[0;32m<ipython-input-161-417db27f4b47>\u001b[0m in \u001b[0;36m<module>\u001b[0;34m()\u001b[0m\n\u001b[1;32m      1\u001b[0m \u001b[0mx\u001b[0m \u001b[0;34m=\u001b[0m \u001b[0;34m\"Alan Turing\"\u001b[0m\u001b[0;34m\u001b[0m\u001b[0;34m\u001b[0m\u001b[0m\n\u001b[1;32m      2\u001b[0m \u001b[0;34m\u001b[0m\u001b[0m\n\u001b[0;32m----> 3\u001b[0;31m \u001b[0mint\u001b[0m\u001b[0;34m(\u001b[0m\u001b[0mx\u001b[0m\u001b[0;34m)\u001b[0m\u001b[0;34m\u001b[0m\u001b[0;34m\u001b[0m\u001b[0m\n\u001b[0m",
            "\u001b[0;31mValueError\u001b[0m: invalid literal for int() with base 10: 'Alan Turing'"
          ]
        }
      ]
    },
    {
      "cell_type": "code",
      "metadata": {
        "id": "rAhmuTE9B8cy",
        "colab_type": "code",
        "colab": {
          "base_uri": "https://localhost:8080/",
          "height": 35
        },
        "outputId": "0328d52f-c45a-48be-ef2a-f2d1e75a8a75"
      },
      "source": [
        "try:\n",
        "  int(x)\n",
        "\n",
        "except ValueError:\n",
        "  print(\"Lütfen integer bir değer giriniz!!!\")"
      ],
      "execution_count": 162,
      "outputs": [
        {
          "output_type": "stream",
          "text": [
            "Lütfen integer bir değer giriniz!!!\n"
          ],
          "name": "stdout"
        }
      ]
    },
    {
      "cell_type": "code",
      "metadata": {
        "id": "E4QMEl4YC5cR",
        "colab_type": "code",
        "colab": {
          "base_uri": "https://localhost:8080/",
          "height": 70
        },
        "outputId": "91d452c2-d579-479d-d465-4b9a2162bd69"
      },
      "source": [
        "sayi3 = input(\"İlk sayı: \")\n",
        "sayi4 = input(\"İkinci sayı: \")\n",
        "\n",
        "try:\n",
        "  sayi3_int = int(sayi3)\n",
        "  sayi4_int = int(sayi4)\n",
        "\n",
        "  print(sayi3_int, \"/\",sayi4_int, \"=\", sayi3_int/sayi4_int)\n",
        "\n",
        "except ValueError:\n",
        "  print(\"Lütfen integer bir değer giriniz!!!\")"
      ],
      "execution_count": 163,
      "outputs": [
        {
          "output_type": "stream",
          "text": [
            "İlk sayı: 5\n",
            "İkinci sayı: sdfgsdfg\n",
            "Lütfen integer bir değer giriniz!!!\n"
          ],
          "name": "stdout"
        }
      ]
    },
    {
      "cell_type": "code",
      "metadata": {
        "id": "ttj6eITbCYik",
        "colab_type": "code",
        "colab": {
          "base_uri": "https://localhost:8080/",
          "height": 70
        },
        "outputId": "591d81df-9cdf-4737-8c39-33d42cba865e"
      },
      "source": [
        "sayi3 = input(\"İlk sayı: \")\n",
        "sayi4 = input(\"İkinci sayı: \")\n",
        "\n",
        "try:\n",
        "  sayi3_int = int(sayi3)\n",
        "  sayi4_int = int(sayi4)\n",
        "\n",
        "  print(sayi3_int, \"/\",sayi4_int, \"=\", sayi3_int/sayi4_int)\n",
        "\n",
        "except ZeroDivisionError:\n",
        "  print(\"Lütfen 2. girdinizi 0 dan farklı bir integer değer giriniz!!!\")"
      ],
      "execution_count": 164,
      "outputs": [
        {
          "output_type": "stream",
          "text": [
            "İlk sayı: 6\n",
            "İkinci sayı: 0\n",
            "Lütfen 2. girdinizi 0 dan farklı bir integer değer giriniz!!!\n"
          ],
          "name": "stdout"
        }
      ]
    },
    {
      "cell_type": "code",
      "metadata": {
        "id": "qgTSl8xJFrnP",
        "colab_type": "code",
        "colab": {}
      },
      "source": [
        "sayi3 = input(\"İlk sayı: \")\n",
        "sayi4 = input(\"İkinci sayı: \")\n",
        "\n",
        "try:\n",
        "  sayi3_int = int(sayi3)\n",
        "  sayi4_int = int(sayi4)\n",
        "\n",
        "  print(sayi3_int, \"/\",sayi4_int, \"=\", sayi3_int/sayi4_int)\n",
        "\n",
        "except ValueError:\n",
        "  print(\"Lütfen integer bir değer giriniz!!!\")\n",
        "except ZeroDivisionError:\n",
        "  print(\"Lütfen 0 dan farklı bir integer değer giriniz!!!\")\n",
        "except:\n",
        "  print(\"Bilinmeyen br hata oluştu...\")"
      ],
      "execution_count": null,
      "outputs": []
    },
    {
      "cell_type": "code",
      "metadata": {
        "id": "bGy694JBF4nv",
        "colab_type": "code",
        "colab": {}
      },
      "source": [
        "sayi3 = input(\"İlk sayı: \")\n",
        "sayi4 = input(\"İkinci sayı: \")\n",
        "\n",
        "try:\n",
        "  sayi3_int = int(sayi3)\n",
        "  sayi4_int = int(sayi4)\n",
        "\n",
        "  print(sayi3_int, \"/\",sayi4_int, \"=\", sayi3_int/sayi4_int )\n",
        "\n",
        "except (ValueError, ZeroDivisionError):\n",
        "  print(\"Bir hata oluştu!!!\")"
      ],
      "execution_count": null,
      "outputs": []
    },
    {
      "cell_type": "code",
      "metadata": {
        "id": "tu1cCIfjJiFM",
        "colab_type": "code",
        "colab": {
          "base_uri": "https://localhost:8080/",
          "height": 88
        },
        "outputId": "c1879c27-6914-47e6-b6f1-f501eb33b20b"
      },
      "source": [
        "#try/except/as\n",
        "\n",
        "\n",
        "sayi3 = input(\"İlk sayı: \")\n",
        "sayi4 = input(\"İkinci sayı: \")\n",
        "\n",
        "try:\n",
        "  sayi3_int = int(sayi3)\n",
        "  sayi4_int = int(sayi4)\n",
        "\n",
        "  print(sayi3_int, \"/\",sayi4_int, \"=\", sayi3_int/sayi4_int)\n",
        "\n",
        "except ValueError as error:\n",
        "  print(\"Bir hata var!!!\")\n",
        "  print(\"Hata mesajı: \", error)"
      ],
      "execution_count": 165,
      "outputs": [
        {
          "output_type": "stream",
          "text": [
            "İlk sayı: 4\n",
            "İkinci sayı: xdfg\n",
            "Bir hata var!!!\n",
            "Hata mesajı:  invalid literal for int() with base 10: 'xdfg'\n"
          ],
          "name": "stdout"
        }
      ]
    },
    {
      "cell_type": "code",
      "metadata": {
        "id": "g07-ysSCGQvw",
        "colab_type": "code",
        "colab": {
          "base_uri": "https://localhost:8080/",
          "height": 159
        },
        "outputId": "3f4e2836-8424-4cc6-ebe4-fe01f28f82fd"
      },
      "source": [
        "#döngü yapılarında hata yakalama\n",
        "\n",
        "\n",
        "while True:\n",
        "    sayi1 = input(\"Birinci sayı: (Programdan çıkmak için q tuşuna basın): \")\n",
        "\n",
        "    if sayi1 == \"q\":\n",
        "        break\n",
        "\n",
        "    sayi2 = input(\"İkinci sayı: \")\n",
        "\n",
        "    try:\n",
        "        sayi1_int = int(sayi1)\n",
        "        sayi2_int = int(sayi2)\n",
        "        print(sayi1_int, \"/\", sayi2_int, \"=\", sayi1_int / sayi2_int)\n",
        "    except (ValueError, ZeroDivisionError):\n",
        "        print(\"Bir hata oluştu!\")\n",
        "        print(\"Lütfen tekrar deneyin!\")"
      ],
      "execution_count": 166,
      "outputs": [
        {
          "output_type": "stream",
          "text": [
            "Birinci sayı: (Programdan çıkmak için q tuşuna basın): 5\n",
            "İkinci sayı: fgh\n",
            "Bir hata oluştu!\n",
            "Lütfen tekrar deneyin!\n",
            "Birinci sayı: (Programdan çıkmak için q tuşuna basın): 4\n",
            "İkinci sayı: 8\n",
            "4 / 8 = 0.5\n",
            "Birinci sayı: (Programdan çıkmak için q tuşuna basın): q\n"
          ],
          "name": "stdout"
        }
      ]
    },
    {
      "cell_type": "code",
      "metadata": {
        "id": "S7czCxD3KTKx",
        "colab_type": "code",
        "colab": {}
      },
      "source": [
        "\"\"\"\n",
        "fonksiyonlarda hata yakalama\n",
        "kendi yazdığımız fonksiyonlar içine \"raise\" komutu ile duruma özel hata \n",
        "mesajları yayımlayabiliyoruz.\n",
        "\"\"\"\n",
        "\n",
        "\n",
        "def terscevir(s):\n",
        "\n",
        "    if (type(s) != str):\n",
        "        raise ValueError(\"Lütfen bir string değeri girin.\")\n",
        "    else:\n",
        "        return s[::-1]\n",
        "\n"
      ],
      "execution_count": 167,
      "outputs": []
    },
    {
      "cell_type": "code",
      "metadata": {
        "id": "2t0fmpb7MOfp",
        "colab_type": "code",
        "colab": {
          "base_uri": "https://localhost:8080/",
          "height": 36
        },
        "outputId": "676c7296-d80c-4b98-8fc2-1851888d1699"
      },
      "source": [
        "terscevir(\"python\")"
      ],
      "execution_count": 168,
      "outputs": [
        {
          "output_type": "execute_result",
          "data": {
            "application/vnd.google.colaboratory.intrinsic+json": {
              "type": "string"
            },
            "text/plain": [
              "'nohtyp'"
            ]
          },
          "metadata": {
            "tags": []
          },
          "execution_count": 168
        }
      ]
    },
    {
      "cell_type": "code",
      "metadata": {
        "id": "Qp4QI6GhzBgC",
        "colab_type": "code",
        "colab": {
          "base_uri": "https://localhost:8080/",
          "height": 292
        },
        "outputId": "dfc0d3a7-6c34-471e-9ab2-d6a0ab717809"
      },
      "source": [
        "terscevir(12)"
      ],
      "execution_count": 169,
      "outputs": [
        {
          "output_type": "error",
          "ename": "ValueError",
          "evalue": "ignored",
          "traceback": [
            "\u001b[0;31m---------------------------------------------------------------------------\u001b[0m",
            "\u001b[0;31mValueError\u001b[0m                                Traceback (most recent call last)",
            "\u001b[0;32m<ipython-input-169-811d8f3197d6>\u001b[0m in \u001b[0;36m<module>\u001b[0;34m()\u001b[0m\n\u001b[0;32m----> 1\u001b[0;31m \u001b[0mterscevir\u001b[0m\u001b[0;34m(\u001b[0m\u001b[0;36m12\u001b[0m\u001b[0;34m)\u001b[0m\u001b[0;34m\u001b[0m\u001b[0;34m\u001b[0m\u001b[0m\n\u001b[0m",
            "\u001b[0;32m<ipython-input-167-4506972d9281>\u001b[0m in \u001b[0;36mterscevir\u001b[0;34m(s)\u001b[0m\n\u001b[1;32m      9\u001b[0m \u001b[0;34m\u001b[0m\u001b[0m\n\u001b[1;32m     10\u001b[0m     \u001b[0;32mif\u001b[0m \u001b[0;34m(\u001b[0m\u001b[0mtype\u001b[0m\u001b[0;34m(\u001b[0m\u001b[0ms\u001b[0m\u001b[0;34m)\u001b[0m \u001b[0;34m!=\u001b[0m \u001b[0mstr\u001b[0m\u001b[0;34m)\u001b[0m\u001b[0;34m:\u001b[0m\u001b[0;34m\u001b[0m\u001b[0;34m\u001b[0m\u001b[0m\n\u001b[0;32m---> 11\u001b[0;31m         \u001b[0;32mraise\u001b[0m \u001b[0mValueError\u001b[0m\u001b[0;34m(\u001b[0m\u001b[0;34m\"Lütfen bir string değeri girin.\"\u001b[0m\u001b[0;34m)\u001b[0m\u001b[0;34m\u001b[0m\u001b[0;34m\u001b[0m\u001b[0m\n\u001b[0m\u001b[1;32m     12\u001b[0m     \u001b[0;32melse\u001b[0m\u001b[0;34m:\u001b[0m\u001b[0;34m\u001b[0m\u001b[0;34m\u001b[0m\u001b[0m\n\u001b[1;32m     13\u001b[0m         \u001b[0;32mreturn\u001b[0m \u001b[0ms\u001b[0m\u001b[0;34m[\u001b[0m\u001b[0;34m:\u001b[0m\u001b[0;34m:\u001b[0m\u001b[0;34m-\u001b[0m\u001b[0;36m1\u001b[0m\u001b[0;34m]\u001b[0m\u001b[0;34m\u001b[0m\u001b[0;34m\u001b[0m\u001b[0m\n",
            "\u001b[0;31mValueError\u001b[0m: Lütfen bir string değeri girin."
          ]
        }
      ]
    },
    {
      "cell_type": "markdown",
      "metadata": {
        "id": "H6k8jXA_OKDH",
        "colab_type": "text"
      },
      "source": [
        "# Nesne Tabanlı Programlama (OOP)\n",
        "\n",
        "Çevremizde gördüğümüz her varlık birer nesne(object) tanımına girer.\n",
        "Her nesnenin de kendine ait özellikleri (attribute) ve yaptıkları bir takım işlevler(method) vardır.\n",
        "\n",
        "Sınıf dediğimiz kavram da, nesneleri üretmemizi sağlayan veri tipleridir.\n",
        "\n"
      ]
    },
    {
      "cell_type": "code",
      "metadata": {
        "id": "RvIjixb-ONiw",
        "colab_type": "code",
        "colab": {}
      },
      "source": [
        "class Car():\n",
        "  renk = \"sarı\"\n",
        "  marka = \"xyz\"\n",
        "  kapi = 4\n"
      ],
      "execution_count": 170,
      "outputs": []
    },
    {
      "cell_type": "code",
      "metadata": {
        "id": "PHXc3gzoZVRK",
        "colab_type": "code",
        "colab": {
          "base_uri": "https://localhost:8080/",
          "height": 35
        },
        "outputId": "be0b6557-da92-46cc-8241-1bb3137466fb"
      },
      "source": [
        "araba1 = Car()\n",
        "\n",
        "print(araba1)\n"
      ],
      "execution_count": 171,
      "outputs": [
        {
          "output_type": "stream",
          "text": [
            "<__main__.Car object at 0x7f3f2a7fa208>\n"
          ],
          "name": "stdout"
        }
      ]
    },
    {
      "cell_type": "code",
      "metadata": {
        "id": "8Z38odyhZj2x",
        "colab_type": "code",
        "colab": {
          "base_uri": "https://localhost:8080/",
          "height": 70
        },
        "outputId": "aafe305a-7ccc-4f7c-d470-bf4d96723c97"
      },
      "source": [
        "print(araba1.renk)\n",
        "print(araba1.marka)\n",
        "print(araba1.kapi)"
      ],
      "execution_count": 172,
      "outputs": [
        {
          "output_type": "stream",
          "text": [
            "sarı\n",
            "xyz\n",
            "4\n"
          ],
          "name": "stdout"
        }
      ]
    },
    {
      "cell_type": "code",
      "metadata": {
        "id": "ASMwsKZQZ73S",
        "colab_type": "code",
        "colab": {
          "base_uri": "https://localhost:8080/",
          "height": 36
        },
        "outputId": "34deb25c-7ed2-4345-e319-f5e6aa6cf438"
      },
      "source": [
        "araba2 = Car()\n",
        "\n",
        "araba2.renk"
      ],
      "execution_count": 173,
      "outputs": [
        {
          "output_type": "execute_result",
          "data": {
            "application/vnd.google.colaboratory.intrinsic+json": {
              "type": "string"
            },
            "text/plain": [
              "'sarı'"
            ]
          },
          "metadata": {
            "tags": []
          },
          "execution_count": 173
        }
      ]
    },
    {
      "cell_type": "code",
      "metadata": {
        "id": "gvURL79zaMSZ",
        "colab_type": "code",
        "colab": {
          "base_uri": "https://localhost:8080/",
          "height": 36
        },
        "outputId": "d7370f6f-8c37-4107-fe92-508cbff02ef1"
      },
      "source": [
        "#nesne oluşturmadan class üzerinden de özellikleri çağırabiliyoruz.\n",
        "\n",
        "Car.renk"
      ],
      "execution_count": 174,
      "outputs": [
        {
          "output_type": "execute_result",
          "data": {
            "application/vnd.google.colaboratory.intrinsic+json": {
              "type": "string"
            },
            "text/plain": [
              "'sarı'"
            ]
          },
          "metadata": {
            "tags": []
          },
          "execution_count": 174
        }
      ]
    },
    {
      "cell_type": "code",
      "metadata": {
        "id": "D-bSYoMcaRbD",
        "colab_type": "code",
        "colab": {
          "base_uri": "https://localhost:8080/",
          "height": 36
        },
        "outputId": "2193f663-a22d-434c-9ff0-c2d7d39765bd"
      },
      "source": [
        "Car. marka"
      ],
      "execution_count": 175,
      "outputs": [
        {
          "output_type": "execute_result",
          "data": {
            "application/vnd.google.colaboratory.intrinsic+json": {
              "type": "string"
            },
            "text/plain": [
              "'xyz'"
            ]
          },
          "metadata": {
            "tags": []
          },
          "execution_count": 175
        }
      ]
    },
    {
      "cell_type": "code",
      "metadata": {
        "id": "ODInfukGbGLo",
        "colab_type": "code",
        "colab": {
          "base_uri": "https://localhost:8080/",
          "height": 532
        },
        "outputId": "21a138c2-2eee-454a-f358-ec3c2121c837"
      },
      "source": [
        "dir(araba1)"
      ],
      "execution_count": 57,
      "outputs": [
        {
          "output_type": "execute_result",
          "data": {
            "text/plain": [
              "['__class__',\n",
              " '__delattr__',\n",
              " '__dict__',\n",
              " '__dir__',\n",
              " '__doc__',\n",
              " '__eq__',\n",
              " '__format__',\n",
              " '__ge__',\n",
              " '__getattribute__',\n",
              " '__gt__',\n",
              " '__hash__',\n",
              " '__init__',\n",
              " '__init_subclass__',\n",
              " '__le__',\n",
              " '__lt__',\n",
              " '__module__',\n",
              " '__ne__',\n",
              " '__new__',\n",
              " '__reduce__',\n",
              " '__reduce_ex__',\n",
              " '__repr__',\n",
              " '__setattr__',\n",
              " '__sizeof__',\n",
              " '__str__',\n",
              " '__subclasshook__',\n",
              " '__weakref__',\n",
              " 'kapi',\n",
              " 'marka',\n",
              " 'renk']"
            ]
          },
          "metadata": {
            "tags": []
          },
          "execution_count": 57
        }
      ]
    },
    {
      "cell_type": "code",
      "metadata": {
        "id": "iB2P1I88aZTB",
        "colab_type": "code",
        "colab": {}
      },
      "source": [
        "\"\"\"\n",
        "\n",
        "Her bir objeyi başlangıçta farklı değerlerle oluşturmamız için her bir \n",
        "objeyi oluştururken objelerin değerlerini göndermemiz gerekiyor. \n",
        "Bunun için de özel bir method kullanıyoruz: __init()__\n",
        "\n",
        "init() methodu, yapıcı(constructor ) fonksiyon olarak tanımlanmaktadır. \n",
        "\n",
        "Objelerimiz oluşturulurken otomatik olarak ilk çağrılan fonksiyondur. \n",
        "\n",
        "Bu metodu özel olarak tanımlayarak objelerimizi farklı değerlerle oluşturabiliriz.\n",
        "\n",
        "\"\"\"\n",
        "\n",
        "\n"
      ],
      "execution_count": null,
      "outputs": []
    },
    {
      "cell_type": "code",
      "metadata": {
        "id": "VdPxg1DUbrRE",
        "colab_type": "code",
        "colab": {}
      },
      "source": [
        "class Car2():\n",
        "\n",
        "  def __init__(self): \n",
        "    print(\"init methodu çağırıldı...\")\n",
        "\n"
      ],
      "execution_count": 177,
      "outputs": []
    },
    {
      "cell_type": "code",
      "metadata": {
        "id": "rukOVNMxc3_T",
        "colab_type": "code",
        "colab": {}
      },
      "source": [
        "\"\"\"\n",
        "\n",
        "self= Tanımlanan sınıfta yer alan herhangi bir değişkene veya \n",
        "diğer method’lara erişmek için self kelimesini kullanıyoruz. \n",
        "\n",
        "\"\"\""
      ],
      "execution_count": null,
      "outputs": []
    },
    {
      "cell_type": "code",
      "metadata": {
        "id": "BVfHG7DXcdGj",
        "colab_type": "code",
        "colab": {
          "base_uri": "https://localhost:8080/",
          "height": 35
        },
        "outputId": "640a0869-ef64-4e15-9c98-607dfc52b49e"
      },
      "source": [
        "car = Car2()"
      ],
      "execution_count": 178,
      "outputs": [
        {
          "output_type": "stream",
          "text": [
            "init methodu çağırıldı...\n"
          ],
          "name": "stdout"
        }
      ]
    },
    {
      "cell_type": "code",
      "metadata": {
        "id": "HSQQs2f0eZpr",
        "colab_type": "code",
        "colab": {
          "base_uri": "https://localhost:8080/",
          "height": 52
        },
        "outputId": "f8bac3be-db34-4316-d707-f1af3695672a"
      },
      "source": [
        "class Car3():\n",
        "\n",
        "  def __init__(self, renk, marka, kapi):\n",
        "    self.renk = renk\n",
        "    self.marka = marka\n",
        "    self.kapi = kapi\n",
        "\n",
        "\n",
        "kirmizi_araba = Car3(\"kırmızı\", \"abc\",2)\n",
        "\n",
        "sari_araba = Car3(\"sarı\", \"xyz\", 4)\n",
        "\n",
        "print(kirmizi_araba.renk)\n",
        "print(sari_araba.marka)"
      ],
      "execution_count": 179,
      "outputs": [
        {
          "output_type": "stream",
          "text": [
            "kırmızı\n",
            "xyz\n"
          ],
          "name": "stdout"
        }
      ]
    },
    {
      "cell_type": "code",
      "metadata": {
        "id": "Awm6VrLEObqE",
        "colab_type": "code",
        "colab": {}
      },
      "source": [
        "mavi_araba = Car3()"
      ],
      "execution_count": null,
      "outputs": []
    },
    {
      "cell_type": "code",
      "metadata": {
        "id": "YjSEGRYrfQ69",
        "colab_type": "code",
        "colab": {}
      },
      "source": [
        "class Person():\n",
        "  name = \"\"\n",
        "  age = 0\n",
        "\n",
        "  def __init__(self, personName, personAge):\n",
        "    self.name = personName\n",
        "    self.age = personAge\n",
        "\n",
        "\n",
        "  def welcomePerson(self):\n",
        "    print(\"Merhaba \" + self.name)\n",
        "\n",
        "  \n",
        "  def showAge(self):\n",
        "    print(self.age)\n"
      ],
      "execution_count": 180,
      "outputs": []
    },
    {
      "cell_type": "code",
      "metadata": {
        "id": "GeZqS15XhmM7",
        "colab_type": "code",
        "colab": {
          "base_uri": "https://localhost:8080/",
          "height": 35
        },
        "outputId": "dc75a6ba-2416-4fc6-9101-0f8690060781"
      },
      "source": [
        "person1 = Person (\"Asli\", 28)\n",
        "\n",
        "person1.welcomePerson()"
      ],
      "execution_count": 181,
      "outputs": [
        {
          "output_type": "stream",
          "text": [
            "Merhaba Asli\n"
          ],
          "name": "stdout"
        }
      ]
    },
    {
      "cell_type": "code",
      "metadata": {
        "id": "imIm2qrdjESE",
        "colab_type": "code",
        "colab": {
          "base_uri": "https://localhost:8080/",
          "height": 35
        },
        "outputId": "49a31bd1-ea49-465c-e8f1-7f9895064c70"
      },
      "source": [
        "person1.showAge()"
      ],
      "execution_count": 182,
      "outputs": [
        {
          "output_type": "stream",
          "text": [
            "28\n"
          ],
          "name": "stdout"
        }
      ]
    },
    {
      "cell_type": "code",
      "metadata": {
        "id": "bGR0XBxLjcGo",
        "colab_type": "code",
        "colab": {}
      },
      "source": [
        "class Person3():\n",
        "\n",
        "\n",
        "  def __init__(self, name, age):\n",
        "    self.name = name\n",
        "    self.age = age\n",
        "    self.language = []\n",
        " \n",
        "\n",
        "\n",
        "  def welcomePerson(self):\n",
        "    print(\"Merhaba \" + self.name)\n",
        "\n",
        "  \n",
        "  def showAge(self):\n",
        "    print(self.age)\n",
        "\n",
        "\n",
        "  def addLang (self, new_lang):\n",
        "    print(\"Yeni dil ekleniyor..\")\n",
        "    self.language.append(new_lang)\n",
        "\n",
        "  \n",
        "  def showInfo(self):\n",
        "    print(\"{} adlı kişinin yaşı {} ve bildiği diller: \".format(self.name,self.age))\n",
        "    for i in self.language:\n",
        "      print(i)\n",
        "        \n",
        "        \n",
        "\n",
        "        \n",
        "        "
      ],
      "execution_count": 183,
      "outputs": []
    },
    {
      "cell_type": "code",
      "metadata": {
        "id": "zkmDy4tSpeSO",
        "colab_type": "code",
        "colab": {}
      },
      "source": [
        "person3 = Person3(\"asli\",28)"
      ],
      "execution_count": 184,
      "outputs": []
    },
    {
      "cell_type": "code",
      "metadata": {
        "id": "iGvesZvPpqBw",
        "colab_type": "code",
        "colab": {
          "base_uri": "https://localhost:8080/",
          "height": 35
        },
        "outputId": "7803ae39-1136-4949-d2f6-fbbae5707388"
      },
      "source": [
        "person3.welcomePerson()"
      ],
      "execution_count": 185,
      "outputs": [
        {
          "output_type": "stream",
          "text": [
            "Merhaba asli\n"
          ],
          "name": "stdout"
        }
      ]
    },
    {
      "cell_type": "code",
      "metadata": {
        "id": "ZwaRNvXVptKE",
        "colab_type": "code",
        "colab": {
          "base_uri": "https://localhost:8080/",
          "height": 35
        },
        "outputId": "71da4988-8ecb-4a1e-ceff-49d607519c28"
      },
      "source": [
        "person3.showAge()"
      ],
      "execution_count": 186,
      "outputs": [
        {
          "output_type": "stream",
          "text": [
            "28\n"
          ],
          "name": "stdout"
        }
      ]
    },
    {
      "cell_type": "code",
      "metadata": {
        "id": "RssjOznYpvfv",
        "colab_type": "code",
        "colab": {
          "base_uri": "https://localhost:8080/",
          "height": 35
        },
        "outputId": "50cbd0f8-46a3-40a7-b3b4-0aafe79539db"
      },
      "source": [
        "person3.addLang(\"german\")"
      ],
      "execution_count": 187,
      "outputs": [
        {
          "output_type": "stream",
          "text": [
            "Yeni dil ekleniyor..\n"
          ],
          "name": "stdout"
        }
      ]
    },
    {
      "cell_type": "code",
      "metadata": {
        "id": "axnwe5fbqOWx",
        "colab_type": "code",
        "colab": {
          "base_uri": "https://localhost:8080/",
          "height": 52
        },
        "outputId": "1febc09c-2873-4319-baee-0038f6e81775"
      },
      "source": [
        "person3.showInfo()"
      ],
      "execution_count": 188,
      "outputs": [
        {
          "output_type": "stream",
          "text": [
            "asli adlı kişinin yaşı 28 ve bildiği diller: \n",
            "german\n"
          ],
          "name": "stdout"
        }
      ]
    },
    {
      "cell_type": "code",
      "metadata": {
        "id": "j4LQVwVDtbqL",
        "colab_type": "code",
        "colab": {
          "base_uri": "https://localhost:8080/",
          "height": 35
        },
        "outputId": "c61bbd79-3870-45fd-cb3e-e9bc6862444b"
      },
      "source": [
        "person3.addLang(\"english\")"
      ],
      "execution_count": 189,
      "outputs": [
        {
          "output_type": "stream",
          "text": [
            "Yeni dil ekleniyor..\n"
          ],
          "name": "stdout"
        }
      ]
    },
    {
      "cell_type": "code",
      "metadata": {
        "id": "rjhVBnGotg5T",
        "colab_type": "code",
        "colab": {
          "base_uri": "https://localhost:8080/",
          "height": 70
        },
        "outputId": "53c673db-f48f-4e15-8101-f54182c5d748"
      },
      "source": [
        "person3.showInfo()"
      ],
      "execution_count": 190,
      "outputs": [
        {
          "output_type": "stream",
          "text": [
            "asli adlı kişinin yaşı 28 ve bildiği diller: \n",
            "german\n",
            "english\n"
          ],
          "name": "stdout"
        }
      ]
    }
  ]
}