{
  "nbformat": 4,
  "nbformat_minor": 0,
  "metadata": {
    "colab": {
      "name": "Day-3.ipynb",
      "provenance": [],
      "collapsed_sections": []
    },
    "kernelspec": {
      "name": "python3",
      "display_name": "Python 3"
    }
  },
  "cells": [
    {
      "cell_type": "markdown",
      "metadata": {
        "id": "2BfTgNJxj4l_",
        "colab_type": "text"
      },
      "source": [
        "# Koşullu Durumlar \n",
        "\n",
        "if \"koşul\":\n",
        "\n",
        "\n",
        "> \"birşey yap\"  <koşul doğru ise çalışacak durumlar>\n",
        "\n",
        "\n",
        "print()"
      ]
    },
    {
      "cell_type": "code",
      "metadata": {
        "id": "LXqRwY8TkEt4",
        "colab_type": "code",
        "colab": {
          "base_uri": "https://localhost:8080/",
          "height": 52
        },
        "outputId": "82c99f74-5bf5-45a6-c9fd-a90c8c213ad7"
      },
      "source": [
        "sayi = int(input(\"Bir sayı giriniz: \"))\n",
        "\n",
        "if sayi < 0:  \n",
        "  sayi *= -1  #sayi = sayi*-1\n",
        "print(\"Sonuç: \", sayi)"
      ],
      "execution_count": 97,
      "outputs": [
        {
          "output_type": "stream",
          "text": [
            "Bir sayı giriniz: 6\n",
            "Sonuç:  6\n"
          ],
          "name": "stdout"
        }
      ]
    },
    {
      "cell_type": "markdown",
      "metadata": {
        "id": "kBKf25lKyDbS",
        "colab_type": "text"
      },
      "source": [
        "#If-Else\n",
        "\n",
        "if \"koşul\":\n",
        "\n",
        "\n",
        "> \"birşey yap\" <koşul doğru ise çalışacak durumlar>\n",
        "\n",
        "else:\n",
        "\n",
        "\n",
        "\n",
        "> \"başka birşey yap\" <koşul doğru değilse çalışacak durumlar>\n",
        "\n",
        "\n",
        "\n",
        "print()"
      ]
    },
    {
      "cell_type": "code",
      "metadata": {
        "id": "uero0zQKmGKt",
        "colab_type": "code",
        "colab": {
          "base_uri": "https://localhost:8080/",
          "height": 132
        },
        "outputId": "0f94368e-43bb-4e64-e237-a77c2781ab3f"
      },
      "source": [
        "course = \"python\"\n",
        "\n",
        "s = input(\"Lütfen bir harf giriniz: \")\n",
        "\n",
        "if s in course:\n",
        "  print(\"Mevcut!\")\n",
        "else:\n",
        "  print(\"Yok...\")"
      ],
      "execution_count": 98,
      "outputs": [
        {
          "output_type": "error",
          "ename": "IndentationError",
          "evalue": "ignored",
          "traceback": [
            "\u001b[0;36m  File \u001b[0;32m\"<ipython-input-98-5ae004a45631>\"\u001b[0;36m, line \u001b[0;32m6\u001b[0m\n\u001b[0;31m    print(\"Mevcut!\")\u001b[0m\n\u001b[0m        ^\u001b[0m\n\u001b[0;31mIndentationError\u001b[0m\u001b[0;31m:\u001b[0m expected an indented block\n"
          ]
        }
      ]
    },
    {
      "cell_type": "markdown",
      "metadata": {
        "id": "2sRlaG6I4h-Y",
        "colab_type": "text"
      },
      "source": [
        "#If-Elif-Else\n",
        "\n",
        "if \"koşul\":\n",
        "\n",
        "\n",
        "> \"birşey yap\"  <koşul doğru ise çalışacak durumlar>\n",
        "\n",
        "elif \"koşul2\":\n",
        "\n",
        "\n",
        "\n",
        "> \"başka birşey yap\"  <koşul doğru ise çalışacak durumlar>\n",
        "\n",
        "elif \"koşul3\":\n",
        "\n",
        "\n",
        "\n",
        "> \"başka birşey yap\" <koşul doğru ise çalışacak durumlar>\n",
        "\n",
        "\n",
        "\n",
        "\n",
        "\n",
        "else:\n",
        "\n",
        "\n",
        "\n",
        "> \"farklı birşey yap\" <yukarıdaki koşullar doğru değilse çalışacak durumlar>\n",
        "\n",
        "\n",
        "\n",
        "print()"
      ]
    },
    {
      "cell_type": "code",
      "metadata": {
        "id": "5W8MNavM8OCF",
        "colab_type": "code",
        "colab": {}
      },
      "source": [
        ""
      ],
      "execution_count": null,
      "outputs": []
    },
    {
      "cell_type": "code",
      "metadata": {
        "id": "rLCMo9Kuxe4Y",
        "colab_type": "code",
        "colab": {
          "base_uri": "https://localhost:8080/",
          "height": 52
        },
        "outputId": "1a47bb85-7acf-4d8d-9e2a-836d08ed9a44"
      },
      "source": [
        "score = int(input(\"Lütfen sınav puanınızı giriniz: \"))\n",
        "\n",
        "if score <= 40:\n",
        "  print(\"Kötü, çok çalışmalısın..\")\n",
        "elif score <= 60:\n",
        "  print(\"Orta, biraz daha çalışmalısın.\")\n",
        "elif score <= 100:\n",
        "  print(\"Tebrikler, iyi bir not aldın!\")\n",
        "else:\n",
        "  print(\"Geçersiz ifade girdiniz!!!\")\n",
        "\n"
      ],
      "execution_count": 99,
      "outputs": [
        {
          "output_type": "stream",
          "text": [
            "Lütfen sınav puanınızı giriniz: 85\n",
            "Tebrikler, iyi bir not aldın!\n"
          ],
          "name": "stdout"
        }
      ]
    },
    {
      "cell_type": "code",
      "metadata": {
        "id": "O0r1rOWX8-F6",
        "colab_type": "code",
        "colab": {
          "base_uri": "https://localhost:8080/",
          "height": 35
        },
        "outputId": "9c4acd92-6ad4-4340-cbc3-60e0bfcce3f8"
      },
      "source": [
        "x = 5\n",
        "\n",
        "if x > 4:\n",
        "  x = x+1\n",
        "elif x > 5:\n",
        "  x = x+2\n",
        "elif x > 7:\n",
        "  x = x+3\n",
        "\n",
        "print (\"x in değeri, \", x)"
      ],
      "execution_count": 100,
      "outputs": [
        {
          "output_type": "stream",
          "text": [
            "x in değeri,  6\n"
          ],
          "name": "stdout"
        }
      ]
    },
    {
      "cell_type": "code",
      "metadata": {
        "id": "d_JbM3Yz-Mxq",
        "colab_type": "code",
        "colab": {
          "base_uri": "https://localhost:8080/",
          "height": 35
        },
        "outputId": "5f7f2017-37b4-40ce-8652-5b9fa81e633b"
      },
      "source": [
        "x = 5\n",
        "\n",
        "if x > 4:\n",
        "  x = x+1 \n",
        "if x > 5:\n",
        "  x = x+2\n",
        "if x > 7:\n",
        "  x = x+3\n",
        "\n",
        "print (\"x in değeri, \", x)"
      ],
      "execution_count": 101,
      "outputs": [
        {
          "output_type": "stream",
          "text": [
            "x in değeri,  11\n"
          ],
          "name": "stdout"
        }
      ]
    },
    {
      "cell_type": "markdown",
      "metadata": {
        "id": "gDwccPO2_c0R",
        "colab_type": "text"
      },
      "source": [
        "#Soru\n",
        "\n",
        "Bir şirkette, çalışanların maaşları aşağıdaki formül kullanılarak hesaplanarak aşamalı olarak artırılır:\n",
        "\n",
        "maaş = maaş + maaş x (artış yüzdesi)\n",
        "\n",
        "Artışlar, işçinin mevcut maaşına göre aşağıda belirtildiği gibi önceden tanımlanmıştır. Örneğin işçinin cari maaşı 1000 TL veya daha az ise maaşı% 15 artırılır.\n",
        "\n",
        "\n",
        "Aralık | Yüzdesi\n",
        "--- | ---\n",
        "0 < maaş ≤ 1000 | 15%\n",
        "1000 < maaş ≤ 2000 |10%\n",
        "2000 < maaş ≤ 3000| 5%\n",
        "3000 < maaş | 2.5%\n",
        "\n",
        "\n",
        "Kullanıcıdan maaşını girmesini isteyen bir program yazın. Ardından programınız, kullanıcının artan maaşını hesaplamalı ve yazdırmalıdır.\n",
        "\n",
        "Örnek Çıktılar:\n",
        "\n",
        "Lütfen mevcut maaşınızı girin: 1000\n",
        "\n",
        "Yeni maaşınız 1150.0.\n",
        "\n",
        "Lütfen mevcut maaşınızı girin: 2500\n",
        "\n",
        "Yeni maaşınız 2625.0."
      ]
    },
    {
      "cell_type": "markdown",
      "metadata": {
        "id": "Po9n8VAwAimY",
        "colab_type": "text"
      },
      "source": [
        "#Cevap"
      ]
    },
    {
      "cell_type": "markdown",
      "metadata": {
        "id": "ECbPU-yVAgwR",
        "colab_type": "text"
      },
      "source": [
        ""
      ]
    },
    {
      "cell_type": "code",
      "metadata": {
        "id": "uLq_XcOJDv4_",
        "colab_type": "code",
        "colab": {
          "base_uri": "https://localhost:8080/",
          "height": 52
        },
        "outputId": "5ca0a2d8-0259-476d-be9a-d60408e7d16d"
      },
      "source": [
        "maas = float(input(\"Lütfen mevcut maaşınızı giriniz: \"))\n",
        "\n",
        "if maas < 0:\n",
        "  print(\"Geçersiz değer\")\n",
        "else:\n",
        "\n",
        "  if 0 < maas <= 1000:\n",
        "    maas = maas + maas * 0.15\n",
        "  elif maas <= 2000:\n",
        "    maas = maas + maas * 0.1\n",
        "  elif maas <= 3000:\n",
        "    maas = maas + maas * 0.05\n",
        "  else:\n",
        "    maas = maas + maas * 0.025\n",
        "\n",
        "  print(\"Yeni maaşınız\", maas)"
      ],
      "execution_count": 143,
      "outputs": [
        {
          "output_type": "stream",
          "text": [
            "Lütfen mevcut maaşınızı giriniz: 1000\n",
            "Yeni maaşınız 1150.0\n"
          ],
          "name": "stdout"
        }
      ]
    },
    {
      "cell_type": "markdown",
      "metadata": {
        "id": "alFtTZs0FyXs",
        "colab_type": "text"
      },
      "source": [
        "# While Döngü Yapısı\n",
        "\n",
        "Koşul başlangıcı\n",
        "\n",
        "while <koşul>:\n",
        "\n",
        "\n",
        "\n",
        "> <doğru ifade>\n",
        "\n",
        "> <doğru ifade>\n",
        "\n",
        "> koşul güncelleme\n",
        "\n",
        "\n",
        "Bir mantıksal şart mantıksal doğru değerine sahip olduğu sürece tekrarlanır. Döngünün sona ermesi için o şartın yanlış duruma gelmesi gerekir.Bunun için döngünün içinde değişkenler uygun şekilde güncellenir. \n",
        "\n",
        "\n",
        "\n",
        "  "
      ]
    },
    {
      "cell_type": "code",
      "metadata": {
        "id": "t2hN1ADgUKdI",
        "colab_type": "code",
        "colab": {
          "base_uri": "https://localhost:8080/",
          "height": 177
        },
        "outputId": "b3f24ea4-0247-41f9-c16f-cc86fdf380c6"
      },
      "source": [
        "sayi = 0\n",
        "\n",
        "while sayi < 9:\n",
        "  print(\"Sayının değeri:\", sayi)\n",
        "  sayi = sayi +1\n"
      ],
      "execution_count": 107,
      "outputs": [
        {
          "output_type": "stream",
          "text": [
            "Sayının değeri: 0\n",
            "Sayının değeri: 1\n",
            "Sayının değeri: 2\n",
            "Sayının değeri: 3\n",
            "Sayının değeri: 4\n",
            "Sayının değeri: 5\n",
            "Sayının değeri: 6\n",
            "Sayının değeri: 7\n",
            "Sayının değeri: 8\n"
          ],
          "name": "stdout"
        }
      ]
    },
    {
      "cell_type": "code",
      "metadata": {
        "id": "YAM4s0m7ViEA",
        "colab_type": "code",
        "colab": {}
      },
      "source": [
        "sayi2 = 0\n",
        "\n",
        "while sayi2 != 9:\n",
        "  print(\"Sayının değeri:\", sayi2)\n",
        "  sayi2 +=2\n",
        "\n",
        "#sonsuz döngü, infinite loop"
      ],
      "execution_count": null,
      "outputs": []
    },
    {
      "cell_type": "code",
      "metadata": {
        "id": "2UmFwW5FWEkd",
        "colab_type": "code",
        "colab": {
          "base_uri": "https://localhost:8080/",
          "height": 141
        },
        "outputId": "f95075a7-4047-4e12-e654-b3367df55c0a"
      },
      "source": [
        "sayi3 = int(input(\"Lütfen 1 ve 10 arasında bir sayı giriniz:\"))\n",
        "\n",
        "while sayi3 < 1 or sayi3 > 10:  \n",
        "  print(\"Doğru olmayan bir değer girdiniz!!!!\")\n",
        "  sayi3 = int(input(\"Lütfen 1 ve 10 arasında bir sayı giriniz:\"))\n",
        "print(\"Tebrikler...\") \n"
      ],
      "execution_count": 111,
      "outputs": [
        {
          "output_type": "stream",
          "text": [
            "Lütfen 1 ve 10 arasında bir sayı giriniz:78\n",
            "Doğru olmayan bir değer girdiniz!!!!\n",
            "Lütfen 1 ve 10 arasında bir sayı giriniz:34\n",
            "Tebrikler...\n",
            "Doğru olmayan bir değer girdiniz!!!!\n",
            "Lütfen 1 ve 10 arasında bir sayı giriniz:5\n",
            "Tebrikler...\n"
          ],
          "name": "stdout"
        }
      ]
    },
    {
      "cell_type": "markdown",
      "metadata": {
        "id": "Wxh9hTfQaTXB",
        "colab_type": "text"
      },
      "source": [
        "##Bir listenin elemanlarını yazdıralım. "
      ]
    },
    {
      "cell_type": "code",
      "metadata": {
        "id": "tOoDBo33Y9O0",
        "colab_type": "code",
        "colab": {
          "base_uri": "https://localhost:8080/",
          "height": 124
        },
        "outputId": "1a3e0fc8-6f21-49ae-a3c6-69d23f69c019"
      },
      "source": [
        "t = [1,2,3,4,5,6]\n",
        "\n",
        "i = 0\n",
        "while (i < len(t)):\n",
        "  #i+=1\n",
        "  print(i, \". indexteki elemanı: \", t[i])\n",
        "  i+=1"
      ],
      "execution_count": 114,
      "outputs": [
        {
          "output_type": "stream",
          "text": [
            "0 . indexteki elemanı:  1\n",
            "1 . indexteki elemanı:  2\n",
            "2 . indexteki elemanı:  3\n",
            "3 . indexteki elemanı:  4\n",
            "4 . indexteki elemanı:  5\n",
            "5 . indexteki elemanı:  6\n"
          ],
          "name": "stdout"
        }
      ]
    },
    {
      "cell_type": "code",
      "metadata": {
        "id": "pSN-AL8A62bc",
        "colab_type": "code",
        "colab": {
          "base_uri": "https://localhost:8080/",
          "height": 88
        },
        "outputId": "4b41f3b2-adff-419b-f888-b8790e3549fa"
      },
      "source": [
        "while True:\n",
        "  a = input(\"Bir değer giriniz: \")\n",
        "  if a == \"Exit\":\n",
        "    break"
      ],
      "execution_count": 115,
      "outputs": [
        {
          "output_type": "stream",
          "text": [
            "Bir değer giriniz: asli\n",
            "Bir değer giriniz: sdfsdf\n",
            "Bir değer giriniz: dsdfzdf\n",
            "Bir değer giriniz: Exit\n"
          ],
          "name": "stdout"
        }
      ]
    },
    {
      "cell_type": "markdown",
      "metadata": {
        "id": "HytO2C2ib-vf",
        "colab_type": "text"
      },
      "source": [
        "# For Döngü Yapısı\n",
        "\n",
        "\n",
        "for <tekrarlayan değer> in <sıralı dizi>:\n",
        "\n",
        "\n",
        "\n",
        "> <doğru ifade>\n",
        "\n",
        "\n",
        "Liste gibi sıralı bir nesnedeki elemanları sırayla tek tek alır ve döngü içerisinde işler.\n",
        "\n",
        "\n"
      ]
    },
    {
      "cell_type": "code",
      "metadata": {
        "id": "BgahixcjcC_a",
        "colab_type": "code",
        "colab": {
          "base_uri": "https://localhost:8080/",
          "height": 70
        },
        "outputId": "eb57d5dd-ea82-4e64-dbfd-78f1975c3e6b"
      },
      "source": [
        "for i in [2,45,57]:\n",
        "  print(i)"
      ],
      "execution_count": 116,
      "outputs": [
        {
          "output_type": "stream",
          "text": [
            "2\n",
            "45\n",
            "57\n"
          ],
          "name": "stdout"
        }
      ]
    },
    {
      "cell_type": "code",
      "metadata": {
        "id": "ZD6pp2A9cglb",
        "colab_type": "code",
        "colab": {}
      },
      "source": [
        "for i in range(5):\n",
        "  print(i)"
      ],
      "execution_count": null,
      "outputs": []
    },
    {
      "cell_type": "code",
      "metadata": {
        "id": "sSRS5oGOdr0t",
        "colab_type": "code",
        "colab": {
          "base_uri": "https://localhost:8080/",
          "height": 230
        },
        "outputId": "b34a4d04-8cc5-4318-a9f3-52dd218cfbac"
      },
      "source": [
        "for i in \"Python Kursu\":\n",
        "  print(i)"
      ],
      "execution_count": 118,
      "outputs": [
        {
          "output_type": "stream",
          "text": [
            "P\n",
            "y\n",
            "t\n",
            "h\n",
            "o\n",
            "n\n",
            " \n",
            "K\n",
            "u\n",
            "r\n",
            "s\n",
            "u\n"
          ],
          "name": "stdout"
        }
      ]
    },
    {
      "cell_type": "code",
      "metadata": {
        "id": "c8G-3iFNkrH4",
        "colab_type": "code",
        "colab": {
          "base_uri": "https://localhost:8080/",
          "height": 52
        },
        "outputId": "d855e734-bbf0-46f7-c155-d0b54bd70ef4"
      },
      "source": [
        "for i in \"Python Kursu\".split():\n",
        "  print(i)"
      ],
      "execution_count": 119,
      "outputs": [
        {
          "output_type": "stream",
          "text": [
            "Python\n",
            "Kursu\n"
          ],
          "name": "stdout"
        }
      ]
    },
    {
      "cell_type": "code",
      "metadata": {
        "id": "6Pvl_Pps6fbR",
        "colab_type": "code",
        "colab": {
          "base_uri": "https://localhost:8080/",
          "height": 106
        },
        "outputId": "3e4efa0a-e2db-45bc-8678-0f023d135a8a"
      },
      "source": [
        "for i in range(10):\n",
        "  if i == 5:    \n",
        "    break\n",
        "  print(i)"
      ],
      "execution_count": 120,
      "outputs": [
        {
          "output_type": "stream",
          "text": [
            "0\n",
            "1\n",
            "2\n",
            "3\n",
            "4\n"
          ],
          "name": "stdout"
        }
      ]
    },
    {
      "cell_type": "code",
      "metadata": {
        "id": "vTRaCu7N6ife",
        "colab_type": "code",
        "colab": {
          "base_uri": "https://localhost:8080/",
          "height": 177
        },
        "outputId": "fed997ca-c6fc-4e8c-ba4d-9054a3bb9178"
      },
      "source": [
        "for i in range(10):\n",
        "  if i == 5:\n",
        "    continue\n",
        "  print(i)"
      ],
      "execution_count": 121,
      "outputs": [
        {
          "output_type": "stream",
          "text": [
            "0\n",
            "1\n",
            "2\n",
            "3\n",
            "4\n",
            "6\n",
            "7\n",
            "8\n",
            "9\n"
          ],
          "name": "stdout"
        }
      ]
    },
    {
      "cell_type": "code",
      "metadata": {
        "id": "fZKEer8umXFk",
        "colab_type": "code",
        "colab": {
          "base_uri": "https://localhost:8080/",
          "height": 35
        },
        "outputId": "386a0f8c-b501-42f5-ed1a-e9eb8151d947"
      },
      "source": [
        "sayilar = list(range(8))\n",
        "\n",
        "kareler = []\n",
        "\n",
        "for i in sayilar:\n",
        "  kareler.append(i**2)\n",
        "print(kareler)"
      ],
      "execution_count": 124,
      "outputs": [
        {
          "output_type": "stream",
          "text": [
            "[0, 1, 4, 9, 16, 25, 36, 49]\n"
          ],
          "name": "stdout"
        }
      ]
    },
    {
      "cell_type": "code",
      "metadata": {
        "id": "fnfkGpJanbCF",
        "colab_type": "code",
        "colab": {
          "base_uri": "https://localhost:8080/",
          "height": 35
        },
        "outputId": "599faa82-fd86-4f1c-f20e-0a7f509b9f32"
      },
      "source": [
        "sayilar = list(range(8))\n",
        "\n",
        "kareler = [i**2\n",
        "           for i in sayilar]\n",
        "print(kareler)"
      ],
      "execution_count": 125,
      "outputs": [
        {
          "output_type": "stream",
          "text": [
            "[0, 1, 4, 9, 16, 25, 36, 49]\n"
          ],
          "name": "stdout"
        }
      ]
    },
    {
      "cell_type": "code",
      "metadata": {
        "id": "msKp56Y1ozOk",
        "colab_type": "code",
        "colab": {
          "base_uri": "https://localhost:8080/",
          "height": 52
        },
        "outputId": "b6e0e99f-1151-4d2e-f75e-1cd6b4313083"
      },
      "source": [
        "sayilar = list(range(8))\n",
        "\n",
        "cift_kareler = [i**2\n",
        "                for i in sayilar\n",
        "                if i % 2 == 0]\n",
        "\n",
        "tek_küpler = [i**3\n",
        "               for i in sayilar\n",
        "               if i% 2 == 1]\n",
        "\n",
        "print(cift_kareler)\n",
        "print(tek_küpler)"
      ],
      "execution_count": 126,
      "outputs": [
        {
          "output_type": "stream",
          "text": [
            "[0, 4, 16, 36]\n",
            "[1, 27, 125, 343]\n"
          ],
          "name": "stdout"
        }
      ]
    },
    {
      "cell_type": "code",
      "metadata": {
        "id": "BAIT9kSGrHTn",
        "colab_type": "code",
        "colab": {
          "base_uri": "https://localhost:8080/",
          "height": 35
        },
        "outputId": "e6b50121-df29-4196-d07d-b3c5de4df535"
      },
      "source": [
        "mylist = [3,5,12,7,65,35]\n",
        "\n",
        "sum = 0\n",
        "\n",
        "for i in mylist:\n",
        "  sum = sum + i    #sum += i\n",
        "print(sum)\n",
        "  #print(sum)\n"
      ],
      "execution_count": 142,
      "outputs": [
        {
          "output_type": "stream",
          "text": [
            "127\n"
          ],
          "name": "stdout"
        }
      ]
    },
    {
      "cell_type": "markdown",
      "metadata": {
        "id": "sNWHEuYTuGUk",
        "colab_type": "text"
      },
      "source": [
        "###Listenin en büyük elemanını bulma"
      ]
    },
    {
      "cell_type": "code",
      "metadata": {
        "id": "6MnAca4Ht13-",
        "colab_type": "code",
        "colab": {
          "base_uri": "https://localhost:8080/",
          "height": 35
        },
        "outputId": "5676296a-aa01-468a-9236-5cb866f0eb28"
      },
      "source": [
        "mylist = [3,5,12,7,65,35]\n",
        "\n",
        "\n",
        "max = mylist[0]\n",
        "\n",
        "for i in mylist:\n",
        "  if i > max:\n",
        "    max = i\n",
        "print(max)"
      ],
      "execution_count": 141,
      "outputs": [
        {
          "output_type": "stream",
          "text": [
            "65\n"
          ],
          "name": "stdout"
        }
      ]
    },
    {
      "cell_type": "markdown",
      "metadata": {
        "id": "RzvtIqRPwMjJ",
        "colab_type": "text"
      },
      "source": [
        "###Liste elemanlarını toplama"
      ]
    },
    {
      "cell_type": "code",
      "metadata": {
        "id": "SkyZxq07vZcv",
        "colab_type": "code",
        "colab": {
          "base_uri": "https://localhost:8080/",
          "height": 35
        },
        "outputId": "c20dc7f4-59e0-4e4a-9359-152d241ac4aa"
      },
      "source": [
        "list1 = [1,2,3]\n",
        "list2 = [4,5,6]\n",
        "\n",
        "list3 = [a + b \n",
        "         for a,b in zip(list1,list2)]\n",
        "\n",
        "print(list3)"
      ],
      "execution_count": 134,
      "outputs": [
        {
          "output_type": "stream",
          "text": [
            "[5, 7, 9]\n"
          ],
          "name": "stdout"
        }
      ]
    },
    {
      "cell_type": "markdown",
      "metadata": {
        "id": "KDoimRfIHeKc",
        "colab_type": "text"
      },
      "source": [
        "##Soru\n",
        "\n",
        "Kullanıcıdan bir tamsayı değeri (stop_number) giren ve 0'dan stop_number'a kadar tüm sayıların toplamını yazdıran bir program yazın. Kullanıcının geçerli bir değer gireceğini varsayabilirsiniz."
      ]
    },
    {
      "cell_type": "markdown",
      "metadata": {
        "id": "iF9iRGVRHzZ3",
        "colab_type": "text"
      },
      "source": [
        "##Cevap"
      ]
    },
    {
      "cell_type": "code",
      "metadata": {
        "id": "oz0YvBT4wQQv",
        "colab_type": "code",
        "colab": {}
      },
      "source": [
        ""
      ],
      "execution_count": null,
      "outputs": []
    },
    {
      "cell_type": "markdown",
      "metadata": {
        "id": "n3r7-MzJIQaF",
        "colab_type": "text"
      },
      "source": [
        "##Soru\n",
        "\n",
        "Programınızı, toplanacak sayıların başlangıç değerini de (start_number) girecek şekilde genişletin. Bu durumda, programınız start_number dan stop_number a kadar tüm sayıları toplayacaktır. Kullanıcının iki geçerli değer gireceğini varsayabilirsiniz."
      ]
    },
    {
      "cell_type": "markdown",
      "metadata": {
        "id": "Aum8NWmkJeF8",
        "colab_type": "text"
      },
      "source": [
        "##Cevap"
      ]
    },
    {
      "cell_type": "code",
      "metadata": {
        "id": "wyf3bHGlIl5q",
        "colab_type": "code",
        "colab": {}
      },
      "source": [
        ""
      ],
      "execution_count": null,
      "outputs": []
    },
    {
      "cell_type": "markdown",
      "metadata": {
        "id": "5iu8rZn5JLEh",
        "colab_type": "text"
      },
      "source": [
        "##Soru\n",
        "\n",
        "Programınızı, start_number ı 0 ile 100 arasında bir tamsayı olup olmadığını kontrol edecek şekilde genişletin. Eğer öyleyse, programınız ikinci girdiyi sormaya ve hesaplamaları yapmaya devam edecektir; aksi takdirde, bir hata yazdırır ve yürütmeyi durdurur."
      ]
    },
    {
      "cell_type": "markdown",
      "metadata": {
        "id": "L5XVRV4DJhQA",
        "colab_type": "text"
      },
      "source": [
        "##Cevap"
      ]
    },
    {
      "cell_type": "code",
      "metadata": {
        "id": "pbsMWzp_Jb56",
        "colab_type": "code",
        "colab": {}
      },
      "source": [
        ""
      ],
      "execution_count": null,
      "outputs": []
    }
  ]
}