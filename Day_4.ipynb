{
  "nbformat": 4,
  "nbformat_minor": 0,
  "metadata": {
    "colab": {
      "name": "Day-4.ipynb",
      "provenance": [],
      "collapsed_sections": []
    },
    "kernelspec": {
      "name": "python3",
      "display_name": "Python 3"
    }
  },
  "cells": [
    {
      "cell_type": "markdown",
      "metadata": {
        "id": "HHgvBhnB5_uo",
        "colab_type": "text"
      },
      "source": [
        "##Soru\n",
        "\n",
        "Kullanıcıdan bir tamsayı değeri (stop_number) giren ve 0'dan stop_number'a kadar tüm sayıların toplamını yazdıran bir program yazın. Kullanıcının geçerli bir değer gireceğini varsayabilirsiniz."
      ]
    },
    {
      "cell_type": "code",
      "metadata": {
        "id": "N32FAirH5-J2",
        "colab_type": "code",
        "colab": {
          "base_uri": "https://localhost:8080/",
          "height": 52
        },
        "outputId": "e366d426-3706-4fca-c30b-eb8db79a46e0"
      },
      "source": [
        "stop_number = int(input(\"Bir bitiş sayısı giriniz: \"))\n",
        "\n",
        "sonuc = 0\n",
        "for i in range(1, stop_number):\n",
        "  sonuc += i\n",
        "  \n",
        "print(sonuc)"
      ],
      "execution_count": 109,
      "outputs": [
        {
          "output_type": "stream",
          "text": [
            "Bir bitiş sayısı giriniz: 10\n",
            "45\n"
          ],
          "name": "stdout"
        }
      ]
    },
    {
      "cell_type": "markdown",
      "metadata": {
        "id": "G63Y7XEL6KmJ",
        "colab_type": "text"
      },
      "source": [
        "##Soru\n",
        "\n",
        "Programınızı, toplanacak sayıların başlangıç değerini de (start_number) girecek şekilde genişletin. Bu durumda, programınız start_number dan stop_number a kadar tüm sayıları toplayacaktır. Kullanıcının iki geçerli değer gireceğini varsayabilirsiniz."
      ]
    },
    {
      "cell_type": "code",
      "metadata": {
        "id": "10xHuwEH6LeW",
        "colab_type": "code",
        "colab": {
          "base_uri": "https://localhost:8080/",
          "height": 70
        },
        "outputId": "4112677e-0daf-41bc-80e8-a059c553f56d"
      },
      "source": [
        "start_number = int(input(\"Bir başlangıç sayısı giriniz:\"))\n",
        "stop_number = int(input(\"Bir bitiş sayısı giriniz: \"))\n",
        "\n",
        "sonuc = 0\n",
        "for i in range(start_number, stop_number):\n",
        "  sonuc += i\n",
        "  \n",
        "print(sonuc)"
      ],
      "execution_count": 110,
      "outputs": [
        {
          "output_type": "stream",
          "text": [
            "Bir başlangıç sayısı giriniz:4\n",
            "Bir bitiş sayısı giriniz: 34\n",
            "555\n"
          ],
          "name": "stdout"
        }
      ]
    },
    {
      "cell_type": "markdown",
      "metadata": {
        "id": "_Bu5hGFw6QOK",
        "colab_type": "text"
      },
      "source": [
        "##Soru\n",
        "\n",
        "Programınızı, start_number ı 0 ile 100 arasında bir tamsayı olup olmadığını kontrol edecek şekilde genişletin. Eğer öyleyse, programınız ikinci girdiyi sormaya ve hesaplamaları yapmaya devam edecektir; aksi takdirde, bir hata yazdırır ve yürütmeyi durdurur."
      ]
    },
    {
      "cell_type": "code",
      "metadata": {
        "id": "VofmbOeA6Tlg",
        "colab_type": "code",
        "colab": {
          "base_uri": "https://localhost:8080/",
          "height": 70
        },
        "outputId": "52bf2bb2-ba37-4c58-8dbb-a32bd3db8aa7"
      },
      "source": [
        "start_number = int(input(\"Bir başlangıç sayısı giriniz:\"))\n",
        "\n",
        "if 0 <= start_number <= 100:\n",
        "  stop_number = int(input(\"Bir bitiş sayısı giriniz: \"))\n",
        "  \n",
        "  if start_number <= stop_number <= 100:\n",
        "  \n",
        "    sonuc = 0\n",
        "    for i in range(start_number, stop_number):\n",
        "      sonuc += i\n",
        "    print(sonuc)\n",
        "  else:\n",
        "    print(\"Geçersiz bitiş sayısı\")\n",
        "\n",
        "  \n",
        "else:\n",
        "  print(\"Geçersiz başlangıç sayısı\")"
      ],
      "execution_count": 112,
      "outputs": [
        {
          "output_type": "stream",
          "text": [
            "Bir başlangıç sayısı giriniz:30\n",
            "Bir bitiş sayısı giriniz: 80\n",
            "2725\n"
          ],
          "name": "stdout"
        }
      ]
    },
    {
      "cell_type": "markdown",
      "metadata": {
        "id": "-AC2lMip2B6o",
        "colab_type": "text"
      },
      "source": [
        "##Soru\n",
        "\n",
        "Bilgisayar 1 ile 100 arasında rastgele bir sayı seçsin, biz de onu tahmin edecek programı yazalım."
      ]
    },
    {
      "cell_type": "markdown",
      "metadata": {
        "id": "9NqX9G3F8uZQ",
        "colab_type": "text"
      },
      "source": [
        "###Modüller\n",
        "\n",
        "Bazı işlevleri kolaylıkla yerine getirmemizi sağlayan birtakım fonksiyonları ve nitelikleri içinde barındıran araçlardır. Barındırdığı bu fonksiyonları farklı dosyalar ve programlar içinde tekrar tekrar kullanma imkanı sağlar. Modüller sayesinde Python çok daha kullanışlı ve uygulaması kolay bir dil haline gelmiştir.\n",
        "\n",
        "Python’da herhangi bir modülü kullanabilmek için öncelikle onu ‘içe aktarmamız’ gerekir. İçe aktarmak, bir modül içindeki fonksiyon ve nitelikleri başka bir program içinden kullanılabilir hale getirmek demektir.\n",
        "\n",
        "**import <modül_adı>**"
      ]
    },
    {
      "cell_type": "code",
      "metadata": {
        "id": "MDmE3VeY2BUv",
        "colab_type": "code",
        "colab": {
          "base_uri": "https://localhost:8080/",
          "height": 141
        },
        "outputId": "351b4ba3-b5a3-42ee-8d6c-c054ac84366b"
      },
      "source": [
        "import random as rnd\n",
        "\n",
        "\n",
        "gizli = rnd.randint(1, 100)\n",
        "\n",
        "check = False\n",
        "\n",
        "#tahmin = int(input(\"Bir tahmin giriniz:\"))\n",
        "\n",
        "for x in range(5):\n",
        "  tahmin = int(input(\"Bir tahmin giriniz:\"))\n",
        "  if tahmin == gizli:\n",
        "    print(\"Tebrikler\")\n",
        "    check = True\n",
        "    break\n",
        "  elif tahmin < gizli:\n",
        "    print(\"Daha büyük bir sayı giriniz!!\")\n",
        "  else:\n",
        "    print(\"Daha küçük bir sayı giriniz!!\")\n",
        "    \n",
        "if not check:\n",
        "  print(\"Bilemediniz, belirlenen sayı: \", gizli)"
      ],
      "execution_count": 114,
      "outputs": [
        {
          "output_type": "stream",
          "text": [
            "Bir tahmin giriniz:56\n",
            "Daha küçük bir sayı giriniz!!\n",
            "Daha küçük bir sayı giriniz!!\n",
            "Daha küçük bir sayı giriniz!!\n",
            "Daha küçük bir sayı giriniz!!\n",
            "Daha küçük bir sayı giriniz!!\n",
            "Bilemediniz, belirlenen sayı:  3\n"
          ],
          "name": "stdout"
        }
      ]
    },
    {
      "cell_type": "markdown",
      "metadata": {
        "id": "IdVXxCBHJ07g",
        "colab_type": "text"
      },
      "source": [
        "#Sözlükler (Dictionary)\n",
        "\n",
        "\n",
        "\n",
        "*   Python'daki bir veri tipi.\n",
        "*   Sözlükler,anahtarlar (keys) tarafından indexlenir ve bu anahtarlar String ve sayı tipinde olabilir.\n",
        "*   key:value şeklinde yazılır ve key ler benzersiz (unique) değerlerdir.\n",
        "*   {}\n",
        "\n",
        "\n",
        "\n"
      ]
    },
    {
      "cell_type": "code",
      "metadata": {
        "id": "YHFeM7PaLiqh",
        "colab_type": "code",
        "colab": {
          "base_uri": "https://localhost:8080/",
          "height": 35
        },
        "outputId": "82243a91-f51b-4cf4-a6fb-ebaf956bcc47"
      },
      "source": [
        "d = {}\n",
        "\n",
        "print(d)"
      ],
      "execution_count": 115,
      "outputs": [
        {
          "output_type": "stream",
          "text": [
            "{}\n"
          ],
          "name": "stdout"
        }
      ]
    },
    {
      "cell_type": "code",
      "metadata": {
        "id": "n5qcMd-GLsKa",
        "colab_type": "code",
        "colab": {
          "base_uri": "https://localhost:8080/",
          "height": 35
        },
        "outputId": "b93ee552-50e7-49ba-cc11-8d09887643f1"
      },
      "source": [
        "d = {\"python\":1, \"course\":2}\n",
        "print(d)"
      ],
      "execution_count": 116,
      "outputs": [
        {
          "output_type": "stream",
          "text": [
            "{'python': 1, 'course': 2}\n"
          ],
          "name": "stdout"
        }
      ]
    },
    {
      "cell_type": "code",
      "metadata": {
        "id": "EX9oMWnHL7fq",
        "colab_type": "code",
        "colab": {
          "base_uri": "https://localhost:8080/",
          "height": 35
        },
        "outputId": "011a543e-a1fa-4d88-d8e8-822e4a806955"
      },
      "source": [
        "d2 = {\"machine\":\"learning\", \"artificial\":\"intelligence\" }\n",
        "d2"
      ],
      "execution_count": 117,
      "outputs": [
        {
          "output_type": "execute_result",
          "data": {
            "text/plain": [
              "{'artificial': 'intelligence', 'machine': 'learning'}"
            ]
          },
          "metadata": {
            "tags": []
          },
          "execution_count": 117
        }
      ]
    },
    {
      "cell_type": "code",
      "metadata": {
        "id": "eckt9hWHMKyB",
        "colab_type": "code",
        "colab": {
          "base_uri": "https://localhost:8080/",
          "height": 36
        },
        "outputId": "2574c92e-966b-4f7a-faf9-b6b782bda0b4"
      },
      "source": [
        "d2[\"artificial\"]"
      ],
      "execution_count": 118,
      "outputs": [
        {
          "output_type": "execute_result",
          "data": {
            "application/vnd.google.colaboratory.intrinsic+json": {
              "type": "string"
            },
            "text/plain": [
              "'intelligence'"
            ]
          },
          "metadata": {
            "tags": []
          },
          "execution_count": 118
        }
      ]
    },
    {
      "cell_type": "code",
      "metadata": {
        "id": "EtB2gyEmMWjy",
        "colab_type": "code",
        "colab": {
          "base_uri": "https://localhost:8080/",
          "height": 35
        },
        "outputId": "f16e2223-550d-401d-b669-228d34ce8982"
      },
      "source": [
        "d[\"course\"]"
      ],
      "execution_count": 119,
      "outputs": [
        {
          "output_type": "execute_result",
          "data": {
            "text/plain": [
              "2"
            ]
          },
          "metadata": {
            "tags": []
          },
          "execution_count": 119
        }
      ]
    },
    {
      "cell_type": "code",
      "metadata": {
        "id": "t2flZAV2NIIq",
        "colab_type": "code",
        "colab": {
          "base_uri": "https://localhost:8080/",
          "height": 35
        },
        "outputId": "9ee61c7c-b81b-4965-d128-fdb44d16e691"
      },
      "source": [
        "d2[\"deep\"] = \"learning\"\n",
        "d2\n",
        "#print(d2)"
      ],
      "execution_count": 122,
      "outputs": [
        {
          "output_type": "execute_result",
          "data": {
            "text/plain": [
              "{'artificial': 'intelligence', 'deep': 'learning', 'machine': 'learning'}"
            ]
          },
          "metadata": {
            "tags": []
          },
          "execution_count": 122
        }
      ]
    },
    {
      "cell_type": "code",
      "metadata": {
        "id": "ntLDke2enyh6",
        "colab_type": "code",
        "colab": {
          "base_uri": "https://localhost:8080/",
          "height": 35
        },
        "outputId": "e64c7450-f5cb-4ef4-ac96-c32e702e799d"
      },
      "source": [
        "print(d.keys())"
      ],
      "execution_count": 124,
      "outputs": [
        {
          "output_type": "stream",
          "text": [
            "dict_keys(['python', 'course'])\n"
          ],
          "name": "stdout"
        }
      ]
    },
    {
      "cell_type": "code",
      "metadata": {
        "id": "RRCll5K-oEW6",
        "colab_type": "code",
        "colab": {
          "base_uri": "https://localhost:8080/",
          "height": 35
        },
        "outputId": "ca0a5e9d-4b4c-4f91-fc2e-6581f76dc6f2"
      },
      "source": [
        "d2.values()"
      ],
      "execution_count": 125,
      "outputs": [
        {
          "output_type": "execute_result",
          "data": {
            "text/plain": [
              "dict_values(['learning', 'intelligence', 'learning'])"
            ]
          },
          "metadata": {
            "tags": []
          },
          "execution_count": 125
        }
      ]
    },
    {
      "cell_type": "code",
      "metadata": {
        "id": "YYzF_DyGoHWm",
        "colab_type": "code",
        "colab": {
          "base_uri": "https://localhost:8080/",
          "height": 35
        },
        "outputId": "efa04009-abdf-40e1-d177-cb046ff201b7"
      },
      "source": [
        "d2.items()"
      ],
      "execution_count": 126,
      "outputs": [
        {
          "output_type": "execute_result",
          "data": {
            "text/plain": [
              "dict_items([('machine', 'learning'), ('artificial', 'intelligence'), ('deep', 'learning')])"
            ]
          },
          "metadata": {
            "tags": []
          },
          "execution_count": 126
        }
      ]
    },
    {
      "cell_type": "code",
      "metadata": {
        "id": "rcKOifmfoap9",
        "colab_type": "code",
        "colab": {
          "base_uri": "https://localhost:8080/",
          "height": 70
        },
        "outputId": "fdea2f68-ed1b-45c2-ba42-54e7e56b2ae4"
      },
      "source": [
        "for k in d2.keys():\n",
        "  print(k)\n"
      ],
      "execution_count": 127,
      "outputs": [
        {
          "output_type": "stream",
          "text": [
            "machine\n",
            "artificial\n",
            "deep\n"
          ],
          "name": "stdout"
        }
      ]
    },
    {
      "cell_type": "code",
      "metadata": {
        "id": "bhSGEUT5oqc3",
        "colab_type": "code",
        "colab": {
          "base_uri": "https://localhost:8080/",
          "height": 52
        },
        "outputId": "c72bb74e-5010-476f-a289-f63ff4e68572"
      },
      "source": [
        "for v in d.values():\n",
        "  print(v)"
      ],
      "execution_count": 128,
      "outputs": [
        {
          "output_type": "stream",
          "text": [
            "1\n",
            "2\n"
          ],
          "name": "stdout"
        }
      ]
    },
    {
      "cell_type": "code",
      "metadata": {
        "id": "j5Oyr1AFpC4f",
        "colab_type": "code",
        "colab": {
          "base_uri": "https://localhost:8080/",
          "height": 70
        },
        "outputId": "98ea8ef2-915c-4dd4-d0c9-d5987b97b12d"
      },
      "source": [
        "for k,v in d2.items():\n",
        "  print(k,v)"
      ],
      "execution_count": 129,
      "outputs": [
        {
          "output_type": "stream",
          "text": [
            "machine learning\n",
            "artificial intelligence\n",
            "deep learning\n"
          ],
          "name": "stdout"
        }
      ]
    },
    {
      "cell_type": "code",
      "metadata": {
        "id": "ffQvbfgepJVv",
        "colab_type": "code",
        "colab": {
          "base_uri": "https://localhost:8080/",
          "height": 35
        },
        "outputId": "12edae3a-2b66-4279-e6fc-10c4f9d005b1"
      },
      "source": [
        "for k,v in d.items():\n",
        "  if v == 2:\n",
        "    print(k)"
      ],
      "execution_count": 130,
      "outputs": [
        {
          "output_type": "stream",
          "text": [
            "course\n"
          ],
          "name": "stdout"
        }
      ]
    },
    {
      "cell_type": "code",
      "metadata": {
        "id": "fmxKFTs4pqwP",
        "colab_type": "code",
        "colab": {
          "base_uri": "https://localhost:8080/",
          "height": 35
        },
        "outputId": "ed84dd19-da07-4772-bacf-be7d9f95e991"
      },
      "source": [
        "d"
      ],
      "execution_count": 131,
      "outputs": [
        {
          "output_type": "execute_result",
          "data": {
            "text/plain": [
              "{'course': 2, 'python': 1}"
            ]
          },
          "metadata": {
            "tags": []
          },
          "execution_count": 131
        }
      ]
    },
    {
      "cell_type": "code",
      "metadata": {
        "id": "iy6FAQxHpt6Q",
        "colab_type": "code",
        "colab": {
          "base_uri": "https://localhost:8080/",
          "height": 35
        },
        "outputId": "a59e0324-fb84-4c14-e723-2e535c09105c"
      },
      "source": [
        "d[\"a\"] = [3,4,5]\n",
        "d"
      ],
      "execution_count": 132,
      "outputs": [
        {
          "output_type": "execute_result",
          "data": {
            "text/plain": [
              "{'a': [3, 4, 5], 'course': 2, 'python': 1}"
            ]
          },
          "metadata": {
            "tags": []
          },
          "execution_count": 132
        }
      ]
    },
    {
      "cell_type": "code",
      "metadata": {
        "id": "AINo_32Upzyv",
        "colab_type": "code",
        "colab": {
          "base_uri": "https://localhost:8080/",
          "height": 35
        },
        "outputId": "81ed10a8-59f8-4d29-afc5-f81281ae6541"
      },
      "source": [
        "d.pop(\"python\")\n",
        "d"
      ],
      "execution_count": 133,
      "outputs": [
        {
          "output_type": "execute_result",
          "data": {
            "text/plain": [
              "{'a': [3, 4, 5], 'course': 2}"
            ]
          },
          "metadata": {
            "tags": []
          },
          "execution_count": 133
        }
      ]
    },
    {
      "cell_type": "code",
      "metadata": {
        "id": "U8QBwgp0sSJi",
        "colab_type": "code",
        "colab": {
          "base_uri": "https://localhost:8080/",
          "height": 35
        },
        "outputId": "4f9ed760-c159-42e8-8a03-79180334dd79"
      },
      "source": [
        "len(d)"
      ],
      "execution_count": 134,
      "outputs": [
        {
          "output_type": "execute_result",
          "data": {
            "text/plain": [
              "2"
            ]
          },
          "metadata": {
            "tags": []
          },
          "execution_count": 134
        }
      ]
    },
    {
      "cell_type": "code",
      "metadata": {
        "id": "89k7tFi_sWJO",
        "colab_type": "code",
        "colab": {
          "base_uri": "https://localhost:8080/",
          "height": 35
        },
        "outputId": "ac845006-5d16-42f4-f51d-e974b74e4be8"
      },
      "source": [
        "\"a\" in d"
      ],
      "execution_count": 135,
      "outputs": [
        {
          "output_type": "execute_result",
          "data": {
            "text/plain": [
              "True"
            ]
          },
          "metadata": {
            "tags": []
          },
          "execution_count": 135
        }
      ]
    },
    {
      "cell_type": "code",
      "metadata": {
        "id": "XdyIf0L1sYRM",
        "colab_type": "code",
        "colab": {
          "base_uri": "https://localhost:8080/",
          "height": 35
        },
        "outputId": "bc09b449-a697-4c67-8ed4-e28ad9b6b118"
      },
      "source": [
        "\"aa\" in d"
      ],
      "execution_count": 136,
      "outputs": [
        {
          "output_type": "execute_result",
          "data": {
            "text/plain": [
              "False"
            ]
          },
          "metadata": {
            "tags": []
          },
          "execution_count": 136
        }
      ]
    },
    {
      "cell_type": "code",
      "metadata": {
        "id": "oJvHWYyouN9w",
        "colab_type": "code",
        "colab": {
          "base_uri": "https://localhost:8080/",
          "height": 35
        },
        "outputId": "c495cd2c-67ce-466d-82e4-7d47ec3a6fbf"
      },
      "source": [
        "d2"
      ],
      "execution_count": 137,
      "outputs": [
        {
          "output_type": "execute_result",
          "data": {
            "text/plain": [
              "{'artificial': 'intelligence', 'deep': 'learning', 'machine': 'learning'}"
            ]
          },
          "metadata": {
            "tags": []
          },
          "execution_count": 137
        }
      ]
    },
    {
      "cell_type": "code",
      "metadata": {
        "id": "uAtvUx9Jsf0w",
        "colab_type": "code",
        "colab": {
          "base_uri": "https://localhost:8080/",
          "height": 36
        },
        "outputId": "d29e5cc0-99f0-4bb7-e5e3-4a625922c45b"
      },
      "source": [
        "d2.get(\"artificial\")"
      ],
      "execution_count": 138,
      "outputs": [
        {
          "output_type": "execute_result",
          "data": {
            "application/vnd.google.colaboratory.intrinsic+json": {
              "type": "string"
            },
            "text/plain": [
              "'intelligence'"
            ]
          },
          "metadata": {
            "tags": []
          },
          "execution_count": 138
        }
      ]
    },
    {
      "cell_type": "code",
      "metadata": {
        "id": "GobxPk3fuWi2",
        "colab_type": "code",
        "colab": {}
      },
      "source": [
        "d2.get(\"asli\")"
      ],
      "execution_count": 143,
      "outputs": []
    },
    {
      "cell_type": "code",
      "metadata": {
        "id": "nyH6npGYuhRD",
        "colab_type": "code",
        "colab": {
          "base_uri": "https://localhost:8080/",
          "height": 35
        },
        "outputId": "b5a8ef56-c1cb-449b-9903-c426bb8c9fc7"
      },
      "source": [
        "del d2[\"deep\"]\n",
        "d2"
      ],
      "execution_count": 141,
      "outputs": [
        {
          "output_type": "execute_result",
          "data": {
            "text/plain": [
              "{'artificial': 'intelligence', 'machine': 'learning'}"
            ]
          },
          "metadata": {
            "tags": []
          },
          "execution_count": 141
        }
      ]
    },
    {
      "cell_type": "code",
      "metadata": {
        "id": "rED5dTIhvSO6",
        "colab_type": "code",
        "colab": {
          "base_uri": "https://localhost:8080/",
          "height": 124
        },
        "outputId": "0ad1b7da-8b6d-45ed-c324-7919c30ae999"
      },
      "source": [
        "d4 = {\"insan\":2, \"kedi\":4, \"örümcek\":8}\n",
        "\n",
        "for i in d4:\n",
        "  ayak = d4[i]\n",
        "  print(\"%s canlısının %d adet ayağı bulunur\" % (i,ayak))\n",
        "  print(str(i) + \" canlısının \" + str(ayak) +\" adet ayağı bulunur.\")"
      ],
      "execution_count": 142,
      "outputs": [
        {
          "output_type": "stream",
          "text": [
            "insan canlısının 2 adet ayağı bulunur\n",
            "insan canlısının 2 adet ayağı bulunur.\n",
            "kedi canlısının 4 adet ayağı bulunur\n",
            "kedi canlısının 4 adet ayağı bulunur.\n",
            "örümcek canlısının 8 adet ayağı bulunur\n",
            "örümcek canlısının 8 adet ayağı bulunur.\n"
          ],
          "name": "stdout"
        }
      ]
    },
    {
      "cell_type": "code",
      "metadata": {
        "id": "CGzBpPlgwUTX",
        "colab_type": "code",
        "colab": {
          "base_uri": "https://localhost:8080/",
          "height": 70
        },
        "outputId": "fa668070-d5d3-44ec-90ea-c510952324a0"
      },
      "source": [
        "d4 = {\"insan\":2, \"kedi\":4, \"örümcek\":8}\n",
        "\n",
        "for i,ayak in d4.items():\n",
        "  print(str(i) + \" canlısının \" + str(ayak) +\" adet ayağı bulunur.\")"
      ],
      "execution_count": 144,
      "outputs": [
        {
          "output_type": "stream",
          "text": [
            "insan canlısının 2 adet ayağı bulunur.\n",
            "kedi canlısının 4 adet ayağı bulunur.\n",
            "örümcek canlısının 8 adet ayağı bulunur.\n"
          ],
          "name": "stdout"
        }
      ]
    },
    {
      "cell_type": "code",
      "metadata": {
        "id": "SZia6YVqwfNU",
        "colab_type": "code",
        "colab": {}
      },
      "source": [
        "ilceler = {\"İstanbul\":[\"Bostancı\", \"Beşiktaş\", \"Kadıköy\"], \n",
        "           \"Ankara\":[\"Çankaya\", \"Gölbaşı\", \"Kızılcahamam\"],\n",
        "           \"İzmir\":[\"Çeşme\",\"Bornova\",\"Foça\"]}"
      ],
      "execution_count": 145,
      "outputs": []
    },
    {
      "cell_type": "code",
      "metadata": {
        "id": "4HyiNDwcwfAD",
        "colab_type": "code",
        "colab": {
          "base_uri": "https://localhost:8080/",
          "height": 35
        },
        "outputId": "a86d855c-34d6-4fc9-8e7e-41e9a86886d5"
      },
      "source": [
        "ilceler[\"İstanbul\"]"
      ],
      "execution_count": 146,
      "outputs": [
        {
          "output_type": "execute_result",
          "data": {
            "text/plain": [
              "['Bostancı', 'Beşiktaş', 'Kadıköy']"
            ]
          },
          "metadata": {
            "tags": []
          },
          "execution_count": 146
        }
      ]
    },
    {
      "cell_type": "code",
      "metadata": {
        "id": "CMpXSAUuxmmB",
        "colab_type": "code",
        "colab": {
          "base_uri": "https://localhost:8080/",
          "height": 35
        },
        "outputId": "38b5e335-106e-42b7-c858-ce434d89d35e"
      },
      "source": [
        "type(ilceler)"
      ],
      "execution_count": 147,
      "outputs": [
        {
          "output_type": "execute_result",
          "data": {
            "text/plain": [
              "dict"
            ]
          },
          "metadata": {
            "tags": []
          },
          "execution_count": 147
        }
      ]
    },
    {
      "cell_type": "code",
      "metadata": {
        "id": "yOyreuu_xqgL",
        "colab_type": "code",
        "colab": {
          "base_uri": "https://localhost:8080/",
          "height": 35
        },
        "outputId": "87123a0c-a302-4bd5-a654-8068fd82540d"
      },
      "source": [
        "type(ilceler[\"Ankara\"])"
      ],
      "execution_count": 148,
      "outputs": [
        {
          "output_type": "execute_result",
          "data": {
            "text/plain": [
              "list"
            ]
          },
          "metadata": {
            "tags": []
          },
          "execution_count": 148
        }
      ]
    },
    {
      "cell_type": "code",
      "metadata": {
        "id": "jTxblvirxu9I",
        "colab_type": "code",
        "colab": {
          "base_uri": "https://localhost:8080/",
          "height": 36
        },
        "outputId": "d36d9562-0810-4db1-9518-22c5345cae09"
      },
      "source": [
        "ilceler[\"İzmir\"][0]"
      ],
      "execution_count": 149,
      "outputs": [
        {
          "output_type": "execute_result",
          "data": {
            "application/vnd.google.colaboratory.intrinsic+json": {
              "type": "string"
            },
            "text/plain": [
              "'Çeşme'"
            ]
          },
          "metadata": {
            "tags": []
          },
          "execution_count": 149
        }
      ]
    },
    {
      "cell_type": "code",
      "metadata": {
        "id": "b2gxQlCvyMcq",
        "colab_type": "code",
        "colab": {
          "base_uri": "https://localhost:8080/",
          "height": 36
        },
        "outputId": "6aaa7b71-8b1c-4ea7-e638-5e4ea791648d"
      },
      "source": [
        "ilceler[\"İzmir\"][2]"
      ],
      "execution_count": 150,
      "outputs": [
        {
          "output_type": "execute_result",
          "data": {
            "application/vnd.google.colaboratory.intrinsic+json": {
              "type": "string"
            },
            "text/plain": [
              "'Foça'"
            ]
          },
          "metadata": {
            "tags": []
          },
          "execution_count": 150
        }
      ]
    },
    {
      "cell_type": "code",
      "metadata": {
        "id": "Take2YvbyQSd",
        "colab_type": "code",
        "colab": {
          "base_uri": "https://localhost:8080/",
          "height": 35
        },
        "outputId": "4a7d1fd9-e522-45a1-bfe0-677d77004955"
      },
      "source": [
        "#listeden sözlük oluşturma\n",
        "\n",
        "\n",
        "sayilar = list(range(9))\n",
        "\n",
        "cift_kare = {x: x**2\n",
        "             for x in sayilar\n",
        "             if x % 2 == 0}\n",
        "print(cift_kare)"
      ],
      "execution_count": 151,
      "outputs": [
        {
          "output_type": "stream",
          "text": [
            "{0: 0, 2: 4, 4: 16, 6: 36, 8: 64}\n"
          ],
          "name": "stdout"
        }
      ]
    },
    {
      "cell_type": "markdown",
      "metadata": {
        "id": "Ak4uMk3pzHZI",
        "colab_type": "text"
      },
      "source": [
        "#Kümeler (Sets)\n",
        "\n",
        "\n",
        "*   Bir küme, listelerden farklı olarak, belli bir sırası bulunmayan bir veri topluluğudur; elemanlarına indexleme ile erişilemez.\n",
        "*   Tıpkı matematiksel kümeler gibi, aynı elemandan birden fazla barındıramaz. \n",
        "\n",
        "*   Kümeler içerisine bir öğe ancak bir defa eklenebilir. Yani bir küme iki\n",
        "aynı elemana sahip olamaz.\n",
        "*   Boş küme oluşturmak için set() fonksiyonunu kullanıyoruz.\n",
        "\n",
        "\n",
        "\n",
        "\n",
        "\n"
      ]
    },
    {
      "cell_type": "code",
      "metadata": {
        "id": "QgZuDyx3yvn9",
        "colab_type": "code",
        "colab": {
          "base_uri": "https://localhost:8080/",
          "height": 35
        },
        "outputId": "5661fe2b-3797-4b21-f74f-a5d733a64ad0"
      },
      "source": [
        "s = {\"python\", 5,6,8,5,6,\"abc\", \"python\"}\n",
        "s"
      ],
      "execution_count": 152,
      "outputs": [
        {
          "output_type": "execute_result",
          "data": {
            "text/plain": [
              "{5, 6, 8, 'abc', 'python'}"
            ]
          },
          "metadata": {
            "tags": []
          },
          "execution_count": 152
        }
      ]
    },
    {
      "cell_type": "code",
      "metadata": {
        "id": "KmzyF9b--0Ci",
        "colab_type": "code",
        "colab": {
          "base_uri": "https://localhost:8080/",
          "height": 35
        },
        "outputId": "0fd6f24f-f616-40e2-da1e-ea76843cbcd7"
      },
      "source": [
        "bos = set()\n",
        "type(bos)"
      ],
      "execution_count": 154,
      "outputs": [
        {
          "output_type": "execute_result",
          "data": {
            "text/plain": [
              "set"
            ]
          },
          "metadata": {
            "tags": []
          },
          "execution_count": 154
        }
      ]
    },
    {
      "cell_type": "code",
      "metadata": {
        "id": "8qLJrT9VAUvf",
        "colab_type": "code",
        "colab": {
          "base_uri": "https://localhost:8080/",
          "height": 35
        },
        "outputId": "49d3a738-03e5-45f9-a284-eab1cd844848"
      },
      "source": [
        "bos2 = {}\n",
        "type(bos2)"
      ],
      "execution_count": 153,
      "outputs": [
        {
          "output_type": "execute_result",
          "data": {
            "text/plain": [
              "dict"
            ]
          },
          "metadata": {
            "tags": []
          },
          "execution_count": 153
        }
      ]
    },
    {
      "cell_type": "code",
      "metadata": {
        "id": "cH4PCXOhAZpS",
        "colab_type": "code",
        "colab": {
          "base_uri": "https://localhost:8080/",
          "height": 35
        },
        "outputId": "4de26760-75fc-49bc-dae2-a1b72febd89d"
      },
      "source": [
        "s2 = set([\"python\", 5,6,8,5,6,\"abc\", \"python\"])\n",
        "print(s2)"
      ],
      "execution_count": 155,
      "outputs": [
        {
          "output_type": "stream",
          "text": [
            "{5, 6, 8, 'python', 'abc'}\n"
          ],
          "name": "stdout"
        }
      ]
    },
    {
      "cell_type": "code",
      "metadata": {
        "id": "TLu1Ec_bA__q",
        "colab_type": "code",
        "colab": {
          "base_uri": "https://localhost:8080/",
          "height": 52
        },
        "outputId": "589fc732-30b1-4055-c84b-5293450f6eef"
      },
      "source": [
        "an = set(\"ananas\")\n",
        "print(an)\n",
        "an"
      ],
      "execution_count": 156,
      "outputs": [
        {
          "output_type": "stream",
          "text": [
            "{'s', 'a', 'n'}\n"
          ],
          "name": "stdout"
        },
        {
          "output_type": "execute_result",
          "data": {
            "text/plain": [
              "{'a', 'n', 's'}"
            ]
          },
          "metadata": {
            "tags": []
          },
          "execution_count": 156
        }
      ]
    },
    {
      "cell_type": "code",
      "metadata": {
        "id": "JEA3fgi7BXBR",
        "colab_type": "code",
        "colab": {
          "base_uri": "https://localhost:8080/",
          "height": 186
        },
        "outputId": "ffaeb6f0-240c-4dea-a179-4b98c7051dca"
      },
      "source": [
        "y = {\"a\",\"b\",[1,2,3],5,6}\n",
        "print(y)"
      ],
      "execution_count": 157,
      "outputs": [
        {
          "output_type": "error",
          "ename": "TypeError",
          "evalue": "ignored",
          "traceback": [
            "\u001b[0;31m---------------------------------------------------------------------------\u001b[0m",
            "\u001b[0;31mTypeError\u001b[0m                                 Traceback (most recent call last)",
            "\u001b[0;32m<ipython-input-157-215d4652bbe6>\u001b[0m in \u001b[0;36m<module>\u001b[0;34m()\u001b[0m\n\u001b[0;32m----> 1\u001b[0;31m \u001b[0my\u001b[0m \u001b[0;34m=\u001b[0m \u001b[0;34m{\u001b[0m\u001b[0;34m\"a\"\u001b[0m\u001b[0;34m,\u001b[0m\u001b[0;34m\"b\"\u001b[0m\u001b[0;34m,\u001b[0m\u001b[0;34m[\u001b[0m\u001b[0;36m1\u001b[0m\u001b[0;34m,\u001b[0m\u001b[0;36m2\u001b[0m\u001b[0;34m,\u001b[0m\u001b[0;36m3\u001b[0m\u001b[0;34m]\u001b[0m\u001b[0;34m,\u001b[0m\u001b[0;36m5\u001b[0m\u001b[0;34m,\u001b[0m\u001b[0;36m6\u001b[0m\u001b[0;34m}\u001b[0m\u001b[0;34m\u001b[0m\u001b[0;34m\u001b[0m\u001b[0m\n\u001b[0m\u001b[1;32m      2\u001b[0m \u001b[0mprint\u001b[0m\u001b[0;34m(\u001b[0m\u001b[0my\u001b[0m\u001b[0;34m)\u001b[0m\u001b[0;34m\u001b[0m\u001b[0;34m\u001b[0m\u001b[0m\n",
            "\u001b[0;31mTypeError\u001b[0m: unhashable type: 'list'"
          ]
        }
      ]
    },
    {
      "cell_type": "code",
      "metadata": {
        "id": "WNZzrXshBy-0",
        "colab_type": "code",
        "colab": {
          "base_uri": "https://localhost:8080/",
          "height": 35
        },
        "outputId": "7683a43d-ecba-44c9-bb94-c53a70bba02d"
      },
      "source": [
        "s2"
      ],
      "execution_count": 158,
      "outputs": [
        {
          "output_type": "execute_result",
          "data": {
            "text/plain": [
              "{5, 6, 8, 'abc', 'python'}"
            ]
          },
          "metadata": {
            "tags": []
          },
          "execution_count": 158
        }
      ]
    },
    {
      "cell_type": "code",
      "metadata": {
        "id": "k1IVnwKEB0Wn",
        "colab_type": "code",
        "colab": {
          "base_uri": "https://localhost:8080/",
          "height": 35
        },
        "outputId": "c7eefb52-3522-4954-f90a-b7cdc30e4ee2"
      },
      "source": [
        "6 in s2"
      ],
      "execution_count": 159,
      "outputs": [
        {
          "output_type": "execute_result",
          "data": {
            "text/plain": [
              "True"
            ]
          },
          "metadata": {
            "tags": []
          },
          "execution_count": 159
        }
      ]
    },
    {
      "cell_type": "code",
      "metadata": {
        "id": "GUtmrwfhB2mj",
        "colab_type": "code",
        "colab": {
          "base_uri": "https://localhost:8080/",
          "height": 35
        },
        "outputId": "d52e785c-6aa7-4397-ed56-a0599cdbe4f5"
      },
      "source": [
        "9 in s2"
      ],
      "execution_count": 160,
      "outputs": [
        {
          "output_type": "execute_result",
          "data": {
            "text/plain": [
              "False"
            ]
          },
          "metadata": {
            "tags": []
          },
          "execution_count": 160
        }
      ]
    },
    {
      "cell_type": "code",
      "metadata": {
        "id": "lPvxuypLB4Pg",
        "colab_type": "code",
        "colab": {
          "base_uri": "https://localhost:8080/",
          "height": 35
        },
        "outputId": "f13d4e43-966b-4b31-8bdc-12093592e187"
      },
      "source": [
        "len(s2)"
      ],
      "execution_count": 161,
      "outputs": [
        {
          "output_type": "execute_result",
          "data": {
            "text/plain": [
              "5"
            ]
          },
          "metadata": {
            "tags": []
          },
          "execution_count": 161
        }
      ]
    },
    {
      "cell_type": "code",
      "metadata": {
        "id": "wCijI6-vCEj6",
        "colab_type": "code",
        "colab": {
          "base_uri": "https://localhost:8080/",
          "height": 35
        },
        "outputId": "b59118c9-6059-4002-d1aa-283b6761f5f4"
      },
      "source": [
        "s2.add(\"ai\")\n",
        "s2"
      ],
      "execution_count": 162,
      "outputs": [
        {
          "output_type": "execute_result",
          "data": {
            "text/plain": [
              "{5, 6, 8, 'abc', 'ai', 'python'}"
            ]
          },
          "metadata": {
            "tags": []
          },
          "execution_count": 162
        }
      ]
    },
    {
      "cell_type": "code",
      "metadata": {
        "id": "tPq001PuCLO3",
        "colab_type": "code",
        "colab": {
          "base_uri": "https://localhost:8080/",
          "height": 52
        },
        "outputId": "82b1466c-46b1-45f9-adc7-6b87b13c6763"
      },
      "source": [
        "s2.add(\"ai\")\n",
        "print(s2)\n",
        "len(s2)"
      ],
      "execution_count": 164,
      "outputs": [
        {
          "output_type": "stream",
          "text": [
            "{'ai', 5, 6, 8, 'python', 'abc'}\n"
          ],
          "name": "stdout"
        },
        {
          "output_type": "execute_result",
          "data": {
            "text/plain": [
              "6"
            ]
          },
          "metadata": {
            "tags": []
          },
          "execution_count": 164
        }
      ]
    },
    {
      "cell_type": "code",
      "metadata": {
        "id": "EGZnvf9WCRYk",
        "colab_type": "code",
        "colab": {
          "base_uri": "https://localhost:8080/",
          "height": 35
        },
        "outputId": "2d503674-8139-4afc-bbbb-da3515931d25"
      },
      "source": [
        "s2.remove(\"ai\")\n",
        "print(s2)"
      ],
      "execution_count": 165,
      "outputs": [
        {
          "output_type": "stream",
          "text": [
            "{5, 6, 8, 'python', 'abc'}\n"
          ],
          "name": "stdout"
        }
      ]
    },
    {
      "cell_type": "code",
      "metadata": {
        "id": "wtZoskbUDQMN",
        "colab_type": "code",
        "colab": {
          "base_uri": "https://localhost:8080/",
          "height": 35
        },
        "outputId": "effe7b2c-3db1-4a91-9e5e-99f0789e16cd"
      },
      "source": [
        "from math import sqrt\n",
        "\n",
        "#import math\n",
        "\n",
        "print({sqrt(x) for x in list(range(10))})"
      ],
      "execution_count": 166,
      "outputs": [
        {
          "output_type": "stream",
          "text": [
            "{0.0, 1.0, 2.0, 1.7320508075688772, 1.4142135623730951, 2.23606797749979, 2.449489742783178, 2.6457513110645907, 2.8284271247461903, 3.0}\n"
          ],
          "name": "stdout"
        }
      ]
    },
    {
      "cell_type": "markdown",
      "metadata": {
        "id": "sp_E8xAhG21y",
        "colab_type": "text"
      },
      "source": [
        "# Demetler(Tuples)\n",
        "\n",
        "\n",
        "\n",
        "*   Sıralı veri yapısıdır, listeler gibi index değerine sahiptir, tüm veri tiplerini içerisinde barındırabilir. \n",
        "*   Listelerden farklı olarak, değiştirilemeyen bir yapıları vardır.Elimizde birden fazla değiştirilemez değerimiz var ise, bunları bir demet içinde toplayabiliriz.\n",
        "\n"
      ]
    },
    {
      "cell_type": "code",
      "metadata": {
        "id": "8Rui2302H8jD",
        "colab_type": "code",
        "colab": {
          "base_uri": "https://localhost:8080/",
          "height": 52
        },
        "outputId": "c925805c-b8c6-48bd-ce59-62df117086be"
      },
      "source": [
        "demet = (1,2,3,4,5)\n",
        "print(demet)\n",
        "print(type(demet))"
      ],
      "execution_count": 167,
      "outputs": [
        {
          "output_type": "stream",
          "text": [
            "(1, 2, 3, 4, 5)\n",
            "<class 'tuple'>\n"
          ],
          "name": "stdout"
        }
      ]
    },
    {
      "cell_type": "code",
      "metadata": {
        "id": "wZffTxPsIqqI",
        "colab_type": "code",
        "colab": {
          "base_uri": "https://localhost:8080/",
          "height": 35
        },
        "outputId": "e043064f-a416-46bd-adcc-9f739ff992f9"
      },
      "source": [
        "demet2 = ()  #boş bir listeyi de, liste = [] olarak tanımlayabiliyorduk.\n",
        "type(demet2)"
      ],
      "execution_count": 168,
      "outputs": [
        {
          "output_type": "execute_result",
          "data": {
            "text/plain": [
              "tuple"
            ]
          },
          "metadata": {
            "tags": []
          },
          "execution_count": 168
        }
      ]
    },
    {
      "cell_type": "code",
      "metadata": {
        "id": "IrvB1HzGLYBZ",
        "colab_type": "code",
        "colab": {
          "base_uri": "https://localhost:8080/",
          "height": 35
        },
        "outputId": "dab4ddd5-3799-493f-c314-8f71b67320b8"
      },
      "source": [
        "print(demet[3])"
      ],
      "execution_count": 169,
      "outputs": [
        {
          "output_type": "stream",
          "text": [
            "4\n"
          ],
          "name": "stdout"
        }
      ]
    },
    {
      "cell_type": "code",
      "metadata": {
        "id": "y_9FkBJORo5y",
        "colab_type": "code",
        "colab": {
          "base_uri": "https://localhost:8080/",
          "height": 35
        },
        "outputId": "ec7d4abf-777d-4363-c014-9b5ed5c69101"
      },
      "source": [
        "demet[-2]"
      ],
      "execution_count": 170,
      "outputs": [
        {
          "output_type": "execute_result",
          "data": {
            "text/plain": [
              "4"
            ]
          },
          "metadata": {
            "tags": []
          },
          "execution_count": 170
        }
      ]
    },
    {
      "cell_type": "code",
      "metadata": {
        "id": "ZPMFZi-qRs4a",
        "colab_type": "code",
        "colab": {
          "base_uri": "https://localhost:8080/",
          "height": 35
        },
        "outputId": "7b3703ec-141d-4ba4-9a4c-d48e3c9ce5d6"
      },
      "source": [
        "demet[:4]"
      ],
      "execution_count": 171,
      "outputs": [
        {
          "output_type": "execute_result",
          "data": {
            "text/plain": [
              "(1, 2, 3, 4)"
            ]
          },
          "metadata": {
            "tags": []
          },
          "execution_count": 171
        }
      ]
    },
    {
      "cell_type": "code",
      "metadata": {
        "id": "TeT5RXH1R6Gv",
        "colab_type": "code",
        "colab": {
          "base_uri": "https://localhost:8080/",
          "height": 35
        },
        "outputId": "94499c40-f15e-4f5d-8c59-f68470a8ca10"
      },
      "source": [
        "dm3 = (\"asli\", 5, 8, \"eylul\")\n",
        "dm3.index(\"eylul\")"
      ],
      "execution_count": 172,
      "outputs": [
        {
          "output_type": "execute_result",
          "data": {
            "text/plain": [
              "3"
            ]
          },
          "metadata": {
            "tags": []
          },
          "execution_count": 172
        }
      ]
    },
    {
      "cell_type": "code",
      "metadata": {
        "id": "wRks9wXwSRhJ",
        "colab_type": "code",
        "colab": {
          "base_uri": "https://localhost:8080/",
          "height": 35
        },
        "outputId": "03b8bf14-973e-4413-c16d-60b29f14d26e"
      },
      "source": [
        "dm3.count(5)"
      ],
      "execution_count": 173,
      "outputs": [
        {
          "output_type": "execute_result",
          "data": {
            "text/plain": [
              "1"
            ]
          },
          "metadata": {
            "tags": []
          },
          "execution_count": 173
        }
      ]
    },
    {
      "cell_type": "code",
      "metadata": {
        "id": "Bo_JC5jkSWMf",
        "colab_type": "code",
        "colab": {
          "base_uri": "https://localhost:8080/",
          "height": 239
        },
        "outputId": "c8777e9c-074f-42d5-9e72-bf7c154eb653"
      },
      "source": [
        "dm4 = (\"elma\",\"armut\",\"çilek\")\n",
        "\n",
        "dm4[0] = \"kiraz\"\n",
        "\n",
        "print(dm4)"
      ],
      "execution_count": 174,
      "outputs": [
        {
          "output_type": "error",
          "ename": "TypeError",
          "evalue": "ignored",
          "traceback": [
            "\u001b[0;31m---------------------------------------------------------------------------\u001b[0m",
            "\u001b[0;31mTypeError\u001b[0m                                 Traceback (most recent call last)",
            "\u001b[0;32m<ipython-input-174-08bce6b9718c>\u001b[0m in \u001b[0;36m<module>\u001b[0;34m()\u001b[0m\n\u001b[1;32m      1\u001b[0m \u001b[0mdm4\u001b[0m \u001b[0;34m=\u001b[0m \u001b[0;34m(\u001b[0m\u001b[0;34m\"elma\"\u001b[0m\u001b[0;34m,\u001b[0m\u001b[0;34m\"armut\"\u001b[0m\u001b[0;34m,\u001b[0m\u001b[0;34m\"çilek\"\u001b[0m\u001b[0;34m)\u001b[0m\u001b[0;34m\u001b[0m\u001b[0;34m\u001b[0m\u001b[0m\n\u001b[1;32m      2\u001b[0m \u001b[0;34m\u001b[0m\u001b[0m\n\u001b[0;32m----> 3\u001b[0;31m \u001b[0mdm4\u001b[0m\u001b[0;34m[\u001b[0m\u001b[0;36m0\u001b[0m\u001b[0;34m]\u001b[0m \u001b[0;34m=\u001b[0m \u001b[0;34m\"kiraz\"\u001b[0m\u001b[0;34m\u001b[0m\u001b[0;34m\u001b[0m\u001b[0m\n\u001b[0m\u001b[1;32m      4\u001b[0m \u001b[0;34m\u001b[0m\u001b[0m\n\u001b[1;32m      5\u001b[0m \u001b[0mprint\u001b[0m\u001b[0;34m(\u001b[0m\u001b[0mdm4\u001b[0m\u001b[0;34m)\u001b[0m\u001b[0;34m\u001b[0m\u001b[0;34m\u001b[0m\u001b[0m\n",
            "\u001b[0;31mTypeError\u001b[0m: 'tuple' object does not support item assignment"
          ]
        }
      ]
    },
    {
      "cell_type": "code",
      "metadata": {
        "id": "twLyvUivSoBr",
        "colab_type": "code",
        "colab": {
          "base_uri": "https://localhost:8080/",
          "height": 168
        },
        "outputId": "492c221c-2c88-4774-b16d-7f3040ccaa70"
      },
      "source": [
        "dm4.remove(\"armut\")"
      ],
      "execution_count": 175,
      "outputs": [
        {
          "output_type": "error",
          "ename": "AttributeError",
          "evalue": "ignored",
          "traceback": [
            "\u001b[0;31m---------------------------------------------------------------------------\u001b[0m",
            "\u001b[0;31mAttributeError\u001b[0m                            Traceback (most recent call last)",
            "\u001b[0;32m<ipython-input-175-85e9113c16c3>\u001b[0m in \u001b[0;36m<module>\u001b[0;34m()\u001b[0m\n\u001b[0;32m----> 1\u001b[0;31m \u001b[0mdm4\u001b[0m\u001b[0;34m.\u001b[0m\u001b[0mremove\u001b[0m\u001b[0;34m(\u001b[0m\u001b[0;34m\"armut\"\u001b[0m\u001b[0;34m)\u001b[0m\u001b[0;34m\u001b[0m\u001b[0;34m\u001b[0m\u001b[0m\n\u001b[0m",
            "\u001b[0;31mAttributeError\u001b[0m: 'tuple' object has no attribute 'remove'"
          ]
        }
      ]
    },
    {
      "cell_type": "code",
      "metadata": {
        "id": "vSdY0CMtTLrH",
        "colab_type": "code",
        "colab": {
          "base_uri": "https://localhost:8080/",
          "height": 35
        },
        "outputId": "46eabc10-590c-478e-9d08-10b78b3f1a5d"
      },
      "source": [
        "# demetlerin anahtar olduğu bir sözlük oluşturalım.\n",
        "\n",
        "sozluk = {(x, x+1): x \n",
        "          for x in range(10)}\n",
        "print(sozluk)"
      ],
      "execution_count": 176,
      "outputs": [
        {
          "output_type": "stream",
          "text": [
            "{(0, 1): 0, (1, 2): 1, (2, 3): 2, (3, 4): 3, (4, 5): 4, (5, 6): 5, (6, 7): 6, (7, 8): 7, (8, 9): 8, (9, 10): 9}\n"
          ],
          "name": "stdout"
        }
      ]
    },
    {
      "cell_type": "code",
      "metadata": {
        "id": "hX8AvulwTm-D",
        "colab_type": "code",
        "colab": {
          "base_uri": "https://localhost:8080/",
          "height": 35
        },
        "outputId": "d25b0273-6de6-427c-8979-4a21b1c0309c"
      },
      "source": [
        "demet5 = (5,6)\n",
        "\n",
        "print(type(demet5))"
      ],
      "execution_count": 177,
      "outputs": [
        {
          "output_type": "stream",
          "text": [
            "<class 'tuple'>\n"
          ],
          "name": "stdout"
        }
      ]
    },
    {
      "cell_type": "code",
      "metadata": {
        "id": "Cc0NzYWbT21n",
        "colab_type": "code",
        "colab": {
          "base_uri": "https://localhost:8080/",
          "height": 35
        },
        "outputId": "994340a4-9c84-4ec7-ccc5-deeab889f5ee"
      },
      "source": [
        "sozluk[demet5]"
      ],
      "execution_count": 178,
      "outputs": [
        {
          "output_type": "execute_result",
          "data": {
            "text/plain": [
              "5"
            ]
          },
          "metadata": {
            "tags": []
          },
          "execution_count": 178
        }
      ]
    },
    {
      "cell_type": "code",
      "metadata": {
        "id": "3XIfNKugUB1h",
        "colab_type": "code",
        "colab": {
          "base_uri": "https://localhost:8080/",
          "height": 35
        },
        "outputId": "88af65b6-2839-49f5-9326-ad97e1807fda"
      },
      "source": [
        "sozluk[(3,4)]"
      ],
      "execution_count": 179,
      "outputs": [
        {
          "output_type": "execute_result",
          "data": {
            "text/plain": [
              "3"
            ]
          },
          "metadata": {
            "tags": []
          },
          "execution_count": 179
        }
      ]
    }
  ]
}